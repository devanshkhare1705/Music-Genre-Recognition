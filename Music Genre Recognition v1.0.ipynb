{
  "cells": [
    {
      "cell_type": "markdown",
      "metadata": {
        "id": "42vHVFcpHq48"
      },
      "source": [
        "# Imports"
      ]
    },
    {
      "cell_type": "code",
      "execution_count": null,
      "metadata": {
        "id": "m5ZrHVb4zs96"
      },
      "outputs": [],
      "source": [
        "import pandas as pd\n",
        "from sklearn import preprocessing\n",
        "from sklearn.decomposition import PCA\n",
        "from sklearn.utils import shuffle\n",
        "import seaborn as sns\n",
        "import matplotlib\n",
        "matplotlib.use('Agg')\n",
        "import matplotlib.pyplot as plt\n",
        "from sklearn.neighbors import KNeighborsClassifier\n",
        "from sklearn.model_selection import train_test_split\n",
        "from sklearn.metrics import confusion_matrix, accuracy_score\n",
        "import librosa\n",
        "import librosa.display\n",
        "import os\n",
        "import numpy as np\n",
        "import csv\n",
        "import torch\n",
        "import time\n",
        "import torchvision\n",
        "import torchvision.transforms as transforms\n",
        "import torch.optim as optim\n",
        "import torch.nn as nn\n",
        "import torch.nn.functional as F\n",
        "import soundfile as sf\n",
        "from torchvision import datasets\n",
        "from math import floor"
      ]
    },
    {
      "cell_type": "markdown",
      "metadata": {
        "id": "rDINDOztYDZT"
      },
      "source": [
        "# Mounting"
      ]
    },
    {
      "cell_type": "code",
      "execution_count": null,
      "metadata": {
        "colab": {
          "base_uri": "https://localhost:8080/"
        },
        "id": "253Ue8xUXGcl",
        "outputId": "88585112-7a1e-437a-9543-9d4a872c8071"
      },
      "outputs": [
        {
          "output_type": "stream",
          "name": "stdout",
          "text": [
            "Mounted at /content/drive/\n"
          ]
        }
      ],
      "source": [
        "from google.colab import drive\n",
        "drive.mount('/content/drive/')\n",
        "path = \"/content/drive/MyDrive/APS360Project/GTZAN\""
      ]
    },
    {
      "cell_type": "markdown",
      "metadata": {
        "id": "hEzt-RvXHexD"
      },
      "source": [
        "# Data Processing"
      ]
    },
    {
      "cell_type": "markdown",
      "metadata": {
        "id": "X7-uGWZyKMHa"
      },
      "source": [
        "Mel-Spectrogram Generation\n"
      ]
    },
    {
      "cell_type": "code",
      "execution_count": null,
      "metadata": {
        "id": "SeEWzahnKePJ"
      },
      "outputs": [],
      "source": [
        "%matplotlib agg\n",
        "\n",
        "audio_path =  path + \"/genres_original/\"\n",
        "MFCC_path =  path + \"/MFCC_imgs/\"\n",
        "num_genres = 0\n",
        "\n",
        "if not os.path.isdir(MFCC_path):\n",
        "  os.mkdir(MFCC_path)\n",
        "\n",
        "for genre in os.listdir(audio_path):\n",
        "  num_genres += 1\n",
        "\n",
        "  if not os.path.isdir(MFCC_path + genre):\n",
        "    os.mkdir(MFCC_path + genre)\n",
        "\n",
        "  for audio_clip in os.listdir(audio_path + genre):\n",
        "    curr_audio_path = audio_path + genre + '/' + audio_clip\n",
        "\n",
        "    y, sr = librosa.load(curr_audio_path)\n",
        "    S = librosa.feature.melspectrogram(y, sr=sr)\n",
        "    S_DB = librosa.amplitude_to_db(S, ref=np.max)\n",
        "\n",
        "    librosa.display.specshow(S_DB, sr=sr, hop_length=512,)\n",
        "\n",
        "    plt.savefig(MFCC_path + genre + '/' + audio_clip.split('.')[0] +\n",
        "                audio_clip.split('.')[1] + '.png')"
      ]
    },
    {
      "cell_type": "markdown",
      "metadata": {
        "id": "KxDivXF64ECE"
      },
      "source": [
        "Mel-Spectrogram Generation for 3 second splits \\\n",
        "Ran locally to save drive space"
      ]
    },
    {
      "cell_type": "code",
      "execution_count": null,
      "metadata": {
        "id": "NL-Ihskg4DzJ"
      },
      "outputs": [],
      "source": [
        "\n",
        "audio_path = path + \"/genres_original/\"\n",
        "MFCC_path = path + \"/MFCC_imgs/\"\n",
        "\n",
        "# Assign directory for the split MFCC files. The folder path should be added manually.\n",
        "split_MFCC_path = path + \"/MFCC_imgs_split/\"\n",
        "\n",
        "num_genres = 0\n",
        "\n",
        "if not os.path.isdir(MFCC_path):\n",
        "    os.mkdir(MFCC_path)\n",
        "\n",
        "for genre in os.listdir(audio_path):\n",
        "    num_genres += 1\n",
        "\n",
        "    if not os.path.isdir(MFCC_path + genre):\n",
        "        os.mkdir(MFCC_path + genre)\n",
        "\n",
        "    for audio_clip in os.listdir(audio_path + genre):\n",
        "        curr_audio_path = audio_path + genre + '/' + audio_clip\n",
        "\n",
        "        y, sr = librosa.load(curr_audio_path)\n",
        "\n",
        "        for count in range(10):\n",
        "            split_y = y[sr * 3 * count: (sr * 3 * (count + 1)) - 1]\n",
        "            S = librosa.feature.melspectrogram(y=split_y, sr=sr)\n",
        "            S_DB = librosa.amplitude_to_db(S, ref=np.max)\n",
        "            librosa.display.specshow(S_DB, sr=sr, hop_length=512, )\n",
        "\n",
        "\n",
        "            plt.savefig(split_MFCC_path + genre + '/' + audio_clip.split('.')[0]\n",
        "                        + audio_clip.split('.')[1] + '.' + str(count) + '.png')"
      ]
    },
    {
      "cell_type": "markdown",
      "metadata": {
        "id": "dkscFFbEHlsr"
      },
      "source": [
        "30 Second Clip Feature Extraction"
      ]
    },
    {
      "cell_type": "code",
      "execution_count": null,
      "metadata": {
        "id": "UAxGfjYiHlXq"
      },
      "outputs": [],
      "source": [
        "audio_path =  path + \"/genres_original/\"\n",
        "\n",
        "header = 'filename length chroma_stft_mean chroma_stft_var rms_mean rms_var spectral_centroid_mean \\\n",
        "    spectral_centroid_var spectral_bandwidth_mean spectral_bandwidth_var \\\n",
        "    rolloff_mean rolloff_var zero_crossing_rate_mean zero_crossing_rate_var \\\n",
        "    harmony_mean harmony_var perceptr_mean perceptr_var tempo'\n",
        "\n",
        "for i in range(1, 21):\n",
        "    header += f' mfcc{i}_mean'\n",
        "    header += f' mfcc{i}_var'\n",
        "\n",
        "header += ' label'\n",
        "header = header.split()\n",
        "\n",
        "\n",
        "file = open(path + 'features_30_sec.csv', 'w', newline='')\n",
        "with file:\n",
        "    writer = csv.writer(file)\n",
        "    writer.writerow(header)\n",
        "\n",
        "for genre in os.listdir(audio_path):\n",
        "  for audio_clip in os.listdir(audio_path + genre):\n",
        "\n",
        "        curr_audio_path = audio_path + genre + '/' + audio_clip\n",
        "        y, sr = librosa.load(curr_audio_path, mono=True, duration=30)\n",
        "        length = librosa.get_duration(y=y, sr=sr) * sr\n",
        "        chroma_stft = librosa.feature.chroma_stft(y=y, sr=sr)\n",
        "        rms = librosa.feature.rms(y=y)\n",
        "        spec_cent = librosa.feature.spectral_centroid(y=y, sr=sr)\n",
        "        spec_bw = librosa.feature.spectral_bandwidth(y=y, sr=sr)\n",
        "        rolloff = librosa.feature.spectral_rolloff(y=y, sr=sr)\n",
        "        zcr = librosa.feature.zero_crossing_rate(y)\n",
        "        mfcc = librosa.feature.mfcc(y=y, sr=sr)\n",
        "        harm, perc = librosa.effects.hpss(y)\n",
        "        tempo = librosa.beat.tempo(y=y, sr=sr)\n",
        "\n",
        "        to_append = f'{audio_clip} {length} {np.mean(chroma_stft)} {np.var(chroma_stft)} \\\n",
        "        {np.mean(rms)} {np.var(rms)} {np.mean(spec_cent)} {np.var(spec_cent)} \\\n",
        "         {np.mean(spec_bw)} {np.var(spec_bw)} {np.mean(rolloff)} {np.var(rolloff)} \\\n",
        "         {np.mean(zcr)} {np.var(zcr)} {np.mean(harm)} {np.var(harm)} \\\n",
        "         {np.mean(perc)} {np.var(perc)} {np.mean(tempo)}'\n",
        "\n",
        "        for e in mfcc:\n",
        "            to_append += f' {np.mean(e)}'\n",
        "            to_append += f' {np.var(e)}'\n",
        "\n",
        "        to_append += f' {genre}'\n",
        "\n",
        "        file = open(path + 'features_30_sec.csv', 'a', newline='')\n",
        "        with file:\n",
        "            writer = csv.writer(file)\n",
        "            writer.writerow(to_append.split())\n"
      ]
    },
    {
      "cell_type": "markdown",
      "metadata": {
        "id": "ZemLo_abnBWj"
      },
      "source": [
        "3 Second Clip Splitting and Feature Extraction \\\n",
        "Ran locally to save drive space"
      ]
    },
    {
      "cell_type": "code",
      "execution_count": null,
      "metadata": {
        "id": "l7_iI1VhnIpd"
      },
      "outputs": [],
      "source": [
        "audio_path = path + \"/genres_original/\"\n",
        "new_audio_path = path + \"/genres_split/\"\n",
        "\n",
        "\n",
        "header = 'filename length chroma_stft_mean chroma_stft_var rms_mean rms_var spectral_centroid_mean \\\n",
        "    spectral_centroid_var spectral_bandwidth_mean spectral_bandwidth_var \\\n",
        "    rolloff_mean rolloff_var zero_crossing_rate_mean zero_crossing_rate_var \\\n",
        "    harmony_mean harmony_var perceptr_mean perceptr_var tempo'\n",
        "\n",
        "for i in range(1, 21):\n",
        "    header += f' mfcc{i}_mean'\n",
        "    header += f' mfcc{i}_var'\n",
        "\n",
        "header += ' label'\n",
        "header = header.split()\n",
        "\n",
        "# Updated name to be 'features_10_sec.csv'\n",
        "file = open('features_10_sec.csv', 'w', newline='')\n",
        "with file:\n",
        "    writer = csv.writer(file)\n",
        "    writer.writerow(header)\n",
        "\n",
        "\n",
        "for genre in os.listdir(audio_path):\n",
        "    for audio_clip in os.listdir(audio_path + genre):\n",
        "        curr_audio_path = audio_path + genre + '/' + audio_clip\n",
        "        x, sr = librosa.load(curr_audio_path, mono=True, duration=30)\n",
        "\n",
        "        # Split the audio file into 10s intervals and rename it and make features for the split files.\n",
        "        file_num = 0\n",
        "        for i in range(0, len(x), 3 * sr):\n",
        "            y = x[i: (3 * sr) + i]\n",
        "            update_filename = audio_clip[:-3] + str(file_num) + \".wav\"\n",
        "            update_audio_path = new_audio_path + genre + '/' + update_filename\n",
        "\n",
        "            # Write the new audio to update_audio_path directory.\n",
        "            # Will need to manually make the folder path for each genres.\n",
        "            sf.write(update_audio_path, y, sr)\n",
        "            file_num += 1\n",
        "\n",
        "            # Moved all the feature extraction codes inside the audio split for-loop.\n",
        "            length = librosa.get_duration(y=y, sr=sr) * sr\n",
        "            chroma_stft = librosa.feature.chroma_stft(y=y, sr=sr)\n",
        "            rms = librosa.feature.rms(y=y)\n",
        "            spec_cent = librosa.feature.spectral_centroid(y=y, sr=sr)\n",
        "            spec_bw = librosa.feature.spectral_bandwidth(y=y, sr=sr)\n",
        "            rolloff = librosa.feature.spectral_rolloff(y=y, sr=sr)\n",
        "            zcr = librosa.feature.zero_crossing_rate(y)\n",
        "            mfcc = librosa.feature.mfcc(y=y, sr=sr)\n",
        "            harm, perc = librosa.effects.hpss(y)\n",
        "            tempo = librosa.beat.tempo(y=y, sr=sr)\n",
        "\n",
        "            # Update: changed the file name to be \"update_curr_audio_path\"\n",
        "            to_append = f'{update_filename} {length} {np.mean(chroma_stft)} {np.var(chroma_stft)} \\\n",
        "            {np.mean(rms)} {np.var(rms)} {np.mean(spec_cent)} {np.var(spec_cent)} \\\n",
        "             {np.mean(spec_bw)} {np.var(spec_bw)} {np.mean(rolloff)} {np.var(rolloff)} \\\n",
        "             {np.mean(zcr)} {np.var(zcr)} {np.mean(harm)} {np.var(harm)} \\\n",
        "             {np.mean(perc)} {np.var(perc)} {np.mean(tempo)}'\n",
        "\n",
        "            for e in mfcc:\n",
        "                to_append += f' {np.mean(e)}'\n",
        "                to_append += f' {np.var(e)}'\n",
        "\n",
        "            to_append += f' {genre}'\n",
        "\n",
        "            file = open('features_10_sec.csv', 'a', newline='')\n",
        "            with file:\n",
        "                writer = csv.writer(file)\n",
        "                writer.writerow(to_append.split())"
      ]
    },
    {
      "cell_type": "markdown",
      "metadata": {
        "id": "mgJRdsDZgngI"
      },
      "source": [
        "# Baseline Model Section"
      ]
    },
    {
      "cell_type": "markdown",
      "metadata": {
        "id": "nZUAZiUGP8yj"
      },
      "source": [
        "## Subsection 1. 3 second model\n"
      ]
    },
    {
      "cell_type": "code",
      "execution_count": null,
      "metadata": {
        "id": "-qrQcwtUgslp"
      },
      "outputs": [],
      "source": [
        "## Code for Baseline Model will go here"
      ]
    },
    {
      "cell_type": "code",
      "execution_count": null,
      "metadata": {
        "colab": {
          "base_uri": "https://localhost:8080/",
          "height": 299
        },
        "id": "XJh33lpWV0MY",
        "outputId": "99a58526-c2e6-4b5a-86fb-3bf7eb380f6a"
      },
      "outputs": [
        {
          "data": {
            "text/html": [
              "\n",
              "  <div id=\"df-37aa7936-b9d6-482d-bb20-9631e85615e4\">\n",
              "    <div class=\"colab-df-container\">\n",
              "      <div>\n",
              "<style scoped>\n",
              "    .dataframe tbody tr th:only-of-type {\n",
              "        vertical-align: middle;\n",
              "    }\n",
              "\n",
              "    .dataframe tbody tr th {\n",
              "        vertical-align: top;\n",
              "    }\n",
              "\n",
              "    .dataframe thead th {\n",
              "        text-align: right;\n",
              "    }\n",
              "</style>\n",
              "<table border=\"1\" class=\"dataframe\">\n",
              "  <thead>\n",
              "    <tr style=\"text-align: right;\">\n",
              "      <th></th>\n",
              "      <th>filename</th>\n",
              "      <th>length</th>\n",
              "      <th>chroma_stft_mean</th>\n",
              "      <th>chroma_stft_var</th>\n",
              "      <th>rms_mean</th>\n",
              "      <th>rms_var</th>\n",
              "      <th>spectral_centroid_mean</th>\n",
              "      <th>spectral_centroid_var</th>\n",
              "      <th>spectral_bandwidth_mean</th>\n",
              "      <th>spectral_bandwidth_var</th>\n",
              "      <th>...</th>\n",
              "      <th>mfcc16_var</th>\n",
              "      <th>mfcc17_mean</th>\n",
              "      <th>mfcc17_var</th>\n",
              "      <th>mfcc18_mean</th>\n",
              "      <th>mfcc18_var</th>\n",
              "      <th>mfcc19_mean</th>\n",
              "      <th>mfcc19_var</th>\n",
              "      <th>mfcc20_mean</th>\n",
              "      <th>mfcc20_var</th>\n",
              "      <th>label</th>\n",
              "    </tr>\n",
              "  </thead>\n",
              "  <tbody>\n",
              "    <tr>\n",
              "      <th>0</th>\n",
              "      <td>blues.00000.0.wav</td>\n",
              "      <td>66150</td>\n",
              "      <td>0.335555</td>\n",
              "      <td>0.090997</td>\n",
              "      <td>0.130189</td>\n",
              "      <td>0.003559</td>\n",
              "      <td>1773.358004</td>\n",
              "      <td>169450.82950</td>\n",
              "      <td>1972.334258</td>\n",
              "      <td>117272.64020</td>\n",
              "      <td>...</td>\n",
              "      <td>39.547073</td>\n",
              "      <td>-3.230046</td>\n",
              "      <td>36.606857</td>\n",
              "      <td>0.696385</td>\n",
              "      <td>37.766129</td>\n",
              "      <td>-5.035945</td>\n",
              "      <td>33.668549</td>\n",
              "      <td>-0.239585</td>\n",
              "      <td>43.818882</td>\n",
              "      <td>blues</td>\n",
              "    </tr>\n",
              "    <tr>\n",
              "      <th>1</th>\n",
              "      <td>blues.00000.1.wav</td>\n",
              "      <td>66150</td>\n",
              "      <td>0.343523</td>\n",
              "      <td>0.086782</td>\n",
              "      <td>0.112119</td>\n",
              "      <td>0.001491</td>\n",
              "      <td>1817.244034</td>\n",
              "      <td>90766.29725</td>\n",
              "      <td>2010.751494</td>\n",
              "      <td>65940.66624</td>\n",
              "      <td>...</td>\n",
              "      <td>64.819778</td>\n",
              "      <td>-6.025472</td>\n",
              "      <td>40.548805</td>\n",
              "      <td>0.127131</td>\n",
              "      <td>51.048939</td>\n",
              "      <td>-2.808956</td>\n",
              "      <td>97.221489</td>\n",
              "      <td>5.771882</td>\n",
              "      <td>60.360352</td>\n",
              "      <td>blues</td>\n",
              "    </tr>\n",
              "    <tr>\n",
              "      <th>2</th>\n",
              "      <td>blues.00000.2.wav</td>\n",
              "      <td>66150</td>\n",
              "      <td>0.347746</td>\n",
              "      <td>0.092495</td>\n",
              "      <td>0.130895</td>\n",
              "      <td>0.004552</td>\n",
              "      <td>1790.722357</td>\n",
              "      <td>110071.20700</td>\n",
              "      <td>2088.184750</td>\n",
              "      <td>73391.49800</td>\n",
              "      <td>...</td>\n",
              "      <td>68.306793</td>\n",
              "      <td>-1.714475</td>\n",
              "      <td>28.136948</td>\n",
              "      <td>2.329553</td>\n",
              "      <td>47.211426</td>\n",
              "      <td>-1.925621</td>\n",
              "      <td>52.922432</td>\n",
              "      <td>2.466996</td>\n",
              "      <td>33.164001</td>\n",
              "      <td>blues</td>\n",
              "    </tr>\n",
              "    <tr>\n",
              "      <th>3</th>\n",
              "      <td>blues.00000.3.wav</td>\n",
              "      <td>66150</td>\n",
              "      <td>0.363863</td>\n",
              "      <td>0.087207</td>\n",
              "      <td>0.131349</td>\n",
              "      <td>0.002338</td>\n",
              "      <td>1660.545231</td>\n",
              "      <td>109496.93630</td>\n",
              "      <td>1967.920582</td>\n",
              "      <td>79805.90135</td>\n",
              "      <td>...</td>\n",
              "      <td>48.543201</td>\n",
              "      <td>-3.786986</td>\n",
              "      <td>28.419544</td>\n",
              "      <td>1.153315</td>\n",
              "      <td>35.682701</td>\n",
              "      <td>-3.501979</td>\n",
              "      <td>50.610340</td>\n",
              "      <td>3.580636</td>\n",
              "      <td>32.325874</td>\n",
              "      <td>blues</td>\n",
              "    </tr>\n",
              "    <tr>\n",
              "      <th>4</th>\n",
              "      <td>blues.00000.4.wav</td>\n",
              "      <td>66150</td>\n",
              "      <td>0.335481</td>\n",
              "      <td>0.088482</td>\n",
              "      <td>0.142370</td>\n",
              "      <td>0.001734</td>\n",
              "      <td>1634.465077</td>\n",
              "      <td>77425.41923</td>\n",
              "      <td>1954.633566</td>\n",
              "      <td>57359.69560</td>\n",
              "      <td>...</td>\n",
              "      <td>30.829542</td>\n",
              "      <td>0.635797</td>\n",
              "      <td>44.645561</td>\n",
              "      <td>1.591108</td>\n",
              "      <td>51.415859</td>\n",
              "      <td>-3.364909</td>\n",
              "      <td>26.421085</td>\n",
              "      <td>0.501505</td>\n",
              "      <td>29.109531</td>\n",
              "      <td>blues</td>\n",
              "    </tr>\n",
              "  </tbody>\n",
              "</table>\n",
              "<p>5 rows × 60 columns</p>\n",
              "</div>\n",
              "      <button class=\"colab-df-convert\" onclick=\"convertToInteractive('df-37aa7936-b9d6-482d-bb20-9631e85615e4')\"\n",
              "              title=\"Convert this dataframe to an interactive table.\"\n",
              "              style=\"display:none;\">\n",
              "        \n",
              "  <svg xmlns=\"http://www.w3.org/2000/svg\" height=\"24px\"viewBox=\"0 0 24 24\"\n",
              "       width=\"24px\">\n",
              "    <path d=\"M0 0h24v24H0V0z\" fill=\"none\"/>\n",
              "    <path d=\"M18.56 5.44l.94 2.06.94-2.06 2.06-.94-2.06-.94-.94-2.06-.94 2.06-2.06.94zm-11 1L8.5 8.5l.94-2.06 2.06-.94-2.06-.94L8.5 2.5l-.94 2.06-2.06.94zm10 10l.94 2.06.94-2.06 2.06-.94-2.06-.94-.94-2.06-.94 2.06-2.06.94z\"/><path d=\"M17.41 7.96l-1.37-1.37c-.4-.4-.92-.59-1.43-.59-.52 0-1.04.2-1.43.59L10.3 9.45l-7.72 7.72c-.78.78-.78 2.05 0 2.83L4 21.41c.39.39.9.59 1.41.59.51 0 1.02-.2 1.41-.59l7.78-7.78 2.81-2.81c.8-.78.8-2.07 0-2.86zM5.41 20L4 18.59l7.72-7.72 1.47 1.35L5.41 20z\"/>\n",
              "  </svg>\n",
              "      </button>\n",
              "      \n",
              "  <style>\n",
              "    .colab-df-container {\n",
              "      display:flex;\n",
              "      flex-wrap:wrap;\n",
              "      gap: 12px;\n",
              "    }\n",
              "\n",
              "    .colab-df-convert {\n",
              "      background-color: #E8F0FE;\n",
              "      border: none;\n",
              "      border-radius: 50%;\n",
              "      cursor: pointer;\n",
              "      display: none;\n",
              "      fill: #1967D2;\n",
              "      height: 32px;\n",
              "      padding: 0 0 0 0;\n",
              "      width: 32px;\n",
              "    }\n",
              "\n",
              "    .colab-df-convert:hover {\n",
              "      background-color: #E2EBFA;\n",
              "      box-shadow: 0px 1px 2px rgba(60, 64, 67, 0.3), 0px 1px 3px 1px rgba(60, 64, 67, 0.15);\n",
              "      fill: #174EA6;\n",
              "    }\n",
              "\n",
              "    [theme=dark] .colab-df-convert {\n",
              "      background-color: #3B4455;\n",
              "      fill: #D2E3FC;\n",
              "    }\n",
              "\n",
              "    [theme=dark] .colab-df-convert:hover {\n",
              "      background-color: #434B5C;\n",
              "      box-shadow: 0px 1px 3px 1px rgba(0, 0, 0, 0.15);\n",
              "      filter: drop-shadow(0px 1px 2px rgba(0, 0, 0, 0.3));\n",
              "      fill: #FFFFFF;\n",
              "    }\n",
              "  </style>\n",
              "\n",
              "      <script>\n",
              "        const buttonEl =\n",
              "          document.querySelector('#df-37aa7936-b9d6-482d-bb20-9631e85615e4 button.colab-df-convert');\n",
              "        buttonEl.style.display =\n",
              "          google.colab.kernel.accessAllowed ? 'block' : 'none';\n",
              "\n",
              "        async function convertToInteractive(key) {\n",
              "          const element = document.querySelector('#df-37aa7936-b9d6-482d-bb20-9631e85615e4');\n",
              "          const dataTable =\n",
              "            await google.colab.kernel.invokeFunction('convertToInteractive',\n",
              "                                                     [key], {});\n",
              "          if (!dataTable) return;\n",
              "\n",
              "          const docLinkHtml = 'Like what you see? Visit the ' +\n",
              "            '<a target=\"_blank\" href=https://colab.research.google.com/notebooks/data_table.ipynb>data table notebook</a>'\n",
              "            + ' to learn more about interactive tables.';\n",
              "          element.innerHTML = '';\n",
              "          dataTable['output_type'] = 'display_data';\n",
              "          await google.colab.output.renderOutput(dataTable, element);\n",
              "          const docLink = document.createElement('div');\n",
              "          docLink.innerHTML = docLinkHtml;\n",
              "          element.appendChild(docLink);\n",
              "        }\n",
              "      </script>\n",
              "    </div>\n",
              "  </div>\n",
              "  "
            ],
            "text/plain": [
              "            filename  length  chroma_stft_mean  chroma_stft_var  rms_mean  \\\n",
              "0  blues.00000.0.wav   66150          0.335555         0.090997  0.130189   \n",
              "1  blues.00000.1.wav   66150          0.343523         0.086782  0.112119   \n",
              "2  blues.00000.2.wav   66150          0.347746         0.092495  0.130895   \n",
              "3  blues.00000.3.wav   66150          0.363863         0.087207  0.131349   \n",
              "4  blues.00000.4.wav   66150          0.335481         0.088482  0.142370   \n",
              "\n",
              "    rms_var  spectral_centroid_mean  spectral_centroid_var  \\\n",
              "0  0.003559             1773.358004           169450.82950   \n",
              "1  0.001491             1817.244034            90766.29725   \n",
              "2  0.004552             1790.722357           110071.20700   \n",
              "3  0.002338             1660.545231           109496.93630   \n",
              "4  0.001734             1634.465077            77425.41923   \n",
              "\n",
              "   spectral_bandwidth_mean  spectral_bandwidth_var  ...  mfcc16_var  \\\n",
              "0              1972.334258            117272.64020  ...   39.547073   \n",
              "1              2010.751494             65940.66624  ...   64.819778   \n",
              "2              2088.184750             73391.49800  ...   68.306793   \n",
              "3              1967.920582             79805.90135  ...   48.543201   \n",
              "4              1954.633566             57359.69560  ...   30.829542   \n",
              "\n",
              "   mfcc17_mean  mfcc17_var  mfcc18_mean  mfcc18_var  mfcc19_mean  mfcc19_var  \\\n",
              "0    -3.230046   36.606857     0.696385   37.766129    -5.035945   33.668549   \n",
              "1    -6.025472   40.548805     0.127131   51.048939    -2.808956   97.221489   \n",
              "2    -1.714475   28.136948     2.329553   47.211426    -1.925621   52.922432   \n",
              "3    -3.786986   28.419544     1.153315   35.682701    -3.501979   50.610340   \n",
              "4     0.635797   44.645561     1.591108   51.415859    -3.364909   26.421085   \n",
              "\n",
              "   mfcc20_mean  mfcc20_var  label  \n",
              "0    -0.239585   43.818882  blues  \n",
              "1     5.771882   60.360352  blues  \n",
              "2     2.466996   33.164001  blues  \n",
              "3     3.580636   32.325874  blues  \n",
              "4     0.501505   29.109531  blues  \n",
              "\n",
              "[5 rows x 60 columns]"
            ]
          },
          "execution_count": 25,
          "metadata": {},
          "output_type": "execute_result"
        }
      ],
      "source": [
        "knn_path = path + \"/features_3_sec.csv\"\n",
        "knn_data = pd.read_csv(knn_path)\n",
        "knn_data.head()"
      ]
    },
    {
      "cell_type": "code",
      "execution_count": null,
      "metadata": {
        "id": "Vkt5dUcqV2Ct"
      },
      "outputs": [],
      "source": [
        "knn_data = knn_data.iloc[0:, 1:]\n",
        "knn_y = knn_data[\"label\"]\n",
        "knn_x = knn_data.loc[:, knn_data.columns != 'label']\n",
        "\n",
        "# Normalize X\n",
        "xcols = knn_x.columns\n",
        "min_max_scaler = preprocessing.MinMaxScaler()\n",
        "np_scaled = min_max_scaler.fit_transform(knn_x)\n",
        "\n",
        "knn_x = pd.DataFrame(np_scaled, columns = xcols)"
      ]
    },
    {
      "cell_type": "code",
      "execution_count": null,
      "metadata": {
        "id": "cC0IIGkBV3av"
      },
      "outputs": [],
      "source": [
        "knn_X_train, knn_X_test, knn_y_train, knn_y_test = train_test_split(knn_x, knn_y, test_size=0.2, random_state=32, shuffle=True)"
      ]
    },
    {
      "cell_type": "code",
      "execution_count": null,
      "metadata": {
        "colab": {
          "base_uri": "https://localhost:8080/"
        },
        "id": "MAjr1CyUZ4lM",
        "outputId": "9754e3e7-db40-4ea8-b3f1-e287f3d23b6a"
      },
      "outputs": [
        {
          "name": "stdout",
          "output_type": "stream",
          "text": [
            "Accuracy of KNN model for 3 seconds interval dataset, with 10 neighbours:  0.868\n"
          ]
        }
      ],
      "source": [
        "knn_10 = KNeighborsClassifier(n_neighbors=10)\n",
        "knn_10.fit(knn_X_train, knn_y_train)\n",
        "y_pred_10 = knn_10.predict(knn_X_test)\n",
        "print('Accuracy of KNN model for 3 seconds interval dataset, with 10 neighbours: ', round(accuracy_score(knn_y_test, y_pred_10), 5))"
      ]
    },
    {
      "cell_type": "code",
      "execution_count": null,
      "metadata": {
        "colab": {
          "base_uri": "https://localhost:8080/"
        },
        "id": "OtAVLDVEV4on",
        "outputId": "2d04f036-8635-43d0-990b-420daed3eaff"
      },
      "outputs": [
        {
          "name": "stdout",
          "output_type": "stream",
          "text": [
            "Accuracy of KNN model for 3 seconds interval dataset, with 20 neighbours:  0.8105\n"
          ]
        }
      ],
      "source": [
        "knn = KNeighborsClassifier(n_neighbors=20)\n",
        "knn.fit(knn_X_train, knn_y_train)\n",
        "y_pred = knn.predict(knn_X_test)\n",
        "print('Accuracy of KNN model for 3 seconds interval dataset, with 20 neighbours: ', round(accuracy_score(knn_y_test, y_pred), 5))"
      ]
    },
    {
      "cell_type": "code",
      "execution_count": null,
      "metadata": {
        "colab": {
          "base_uri": "https://localhost:8080/"
        },
        "id": "Y9eZ5WwLaOC-",
        "outputId": "7e210095-3770-476b-bfa9-6989386596fc"
      },
      "outputs": [
        {
          "name": "stdout",
          "output_type": "stream",
          "text": [
            "Accuracy of KNN model for 3 seconds interval dataset, with all neighbours:  0.692\n"
          ]
        }
      ],
      "source": [
        "knn_all = KNeighborsClassifier(n_neighbors=100)\n",
        "knn_all.fit(knn_X_train, knn_y_train)\n",
        "y_pred_all = knn_all.predict(knn_X_test)\n",
        "print('Accuracy of KNN model for 3 seconds interval dataset, with all neighbours: ', round(accuracy_score(knn_y_test, y_pred_all), 5))"
      ]
    },
    {
      "cell_type": "markdown",
      "metadata": {
        "id": "F0AgU90vQLiJ"
      },
      "source": [
        "## Subsection 2. 30 Second Model"
      ]
    },
    {
      "cell_type": "code",
      "execution_count": null,
      "metadata": {
        "colab": {
          "base_uri": "https://localhost:8080/",
          "height": 299
        },
        "id": "AfFeyzQPQO7m",
        "outputId": "8aa70851-ed7b-47b4-9e2c-234618ed69d5"
      },
      "outputs": [
        {
          "data": {
            "text/html": [
              "\n",
              "  <div id=\"df-0ee9952c-a644-4aac-990a-86df61f93404\">\n",
              "    <div class=\"colab-df-container\">\n",
              "      <div>\n",
              "<style scoped>\n",
              "    .dataframe tbody tr th:only-of-type {\n",
              "        vertical-align: middle;\n",
              "    }\n",
              "\n",
              "    .dataframe tbody tr th {\n",
              "        vertical-align: top;\n",
              "    }\n",
              "\n",
              "    .dataframe thead th {\n",
              "        text-align: right;\n",
              "    }\n",
              "</style>\n",
              "<table border=\"1\" class=\"dataframe\">\n",
              "  <thead>\n",
              "    <tr style=\"text-align: right;\">\n",
              "      <th></th>\n",
              "      <th>filename</th>\n",
              "      <th>length</th>\n",
              "      <th>chroma_stft_mean</th>\n",
              "      <th>chroma_stft_var</th>\n",
              "      <th>rms_mean</th>\n",
              "      <th>rms_var</th>\n",
              "      <th>spectral_centroid_mean</th>\n",
              "      <th>spectral_centroid_var</th>\n",
              "      <th>spectral_bandwidth_mean</th>\n",
              "      <th>spectral_bandwidth_var</th>\n",
              "      <th>...</th>\n",
              "      <th>mfcc16_var</th>\n",
              "      <th>mfcc17_mean</th>\n",
              "      <th>mfcc17_var</th>\n",
              "      <th>mfcc18_mean</th>\n",
              "      <th>mfcc18_var</th>\n",
              "      <th>mfcc19_mean</th>\n",
              "      <th>mfcc19_var</th>\n",
              "      <th>mfcc20_mean</th>\n",
              "      <th>mfcc20_var</th>\n",
              "      <th>label</th>\n",
              "    </tr>\n",
              "  </thead>\n",
              "  <tbody>\n",
              "    <tr>\n",
              "      <th>0</th>\n",
              "      <td>jazz.00000.wav</td>\n",
              "      <td>661500.0</td>\n",
              "      <td>0.344568</td>\n",
              "      <td>0.085005</td>\n",
              "      <td>0.046768</td>\n",
              "      <td>0.001543</td>\n",
              "      <td>1504.404759</td>\n",
              "      <td>554635.808130</td>\n",
              "      <td>1754.409592</td>\n",
              "      <td>283727.376842</td>\n",
              "      <td>...</td>\n",
              "      <td>50.317745</td>\n",
              "      <td>-1.502332</td>\n",
              "      <td>41.169983</td>\n",
              "      <td>0.221480</td>\n",
              "      <td>55.749470</td>\n",
              "      <td>-1.991628</td>\n",
              "      <td>50.034637</td>\n",
              "      <td>-3.348313</td>\n",
              "      <td>49.907917</td>\n",
              "      <td>jazz</td>\n",
              "    </tr>\n",
              "    <tr>\n",
              "      <th>1</th>\n",
              "      <td>jazz.00003.wav</td>\n",
              "      <td>661500.0</td>\n",
              "      <td>0.319313</td>\n",
              "      <td>0.081005</td>\n",
              "      <td>0.059496</td>\n",
              "      <td>0.001298</td>\n",
              "      <td>813.293729</td>\n",
              "      <td>92950.399709</td>\n",
              "      <td>1058.898921</td>\n",
              "      <td>220025.916341</td>\n",
              "      <td>...</td>\n",
              "      <td>47.350842</td>\n",
              "      <td>-2.272845</td>\n",
              "      <td>54.629692</td>\n",
              "      <td>3.883317</td>\n",
              "      <td>38.872822</td>\n",
              "      <td>0.344252</td>\n",
              "      <td>50.070782</td>\n",
              "      <td>-2.214156</td>\n",
              "      <td>56.304241</td>\n",
              "      <td>jazz</td>\n",
              "    </tr>\n",
              "    <tr>\n",
              "      <th>2</th>\n",
              "      <td>jazz.00002.wav</td>\n",
              "      <td>661500.0</td>\n",
              "      <td>0.267640</td>\n",
              "      <td>0.083949</td>\n",
              "      <td>0.080840</td>\n",
              "      <td>0.000992</td>\n",
              "      <td>1064.810564</td>\n",
              "      <td>161183.061715</td>\n",
              "      <td>1050.419172</td>\n",
              "      <td>62157.266400</td>\n",
              "      <td>...</td>\n",
              "      <td>39.972137</td>\n",
              "      <td>-12.295748</td>\n",
              "      <td>54.781208</td>\n",
              "      <td>-6.769270</td>\n",
              "      <td>45.765415</td>\n",
              "      <td>-3.495534</td>\n",
              "      <td>41.461681</td>\n",
              "      <td>-8.644752</td>\n",
              "      <td>73.453781</td>\n",
              "      <td>jazz</td>\n",
              "    </tr>\n",
              "    <tr>\n",
              "      <th>3</th>\n",
              "      <td>jazz.00005.wav</td>\n",
              "      <td>661500.0</td>\n",
              "      <td>0.248236</td>\n",
              "      <td>0.096418</td>\n",
              "      <td>0.107555</td>\n",
              "      <td>0.002236</td>\n",
              "      <td>1268.061497</td>\n",
              "      <td>286543.046719</td>\n",
              "      <td>1546.300122</td>\n",
              "      <td>236694.493580</td>\n",
              "      <td>...</td>\n",
              "      <td>229.317825</td>\n",
              "      <td>0.863595</td>\n",
              "      <td>405.584015</td>\n",
              "      <td>0.953356</td>\n",
              "      <td>332.244568</td>\n",
              "      <td>1.736951</td>\n",
              "      <td>193.131317</td>\n",
              "      <td>-1.345491</td>\n",
              "      <td>212.923080</td>\n",
              "      <td>jazz</td>\n",
              "    </tr>\n",
              "    <tr>\n",
              "      <th>4</th>\n",
              "      <td>jazz.00004.wav</td>\n",
              "      <td>661500.0</td>\n",
              "      <td>0.171782</td>\n",
              "      <td>0.082596</td>\n",
              "      <td>0.108786</td>\n",
              "      <td>0.002178</td>\n",
              "      <td>1039.623420</td>\n",
              "      <td>122521.889902</td>\n",
              "      <td>1422.303098</td>\n",
              "      <td>77324.475593</td>\n",
              "      <td>...</td>\n",
              "      <td>162.859573</td>\n",
              "      <td>1.991310</td>\n",
              "      <td>181.093201</td>\n",
              "      <td>4.985074</td>\n",
              "      <td>162.339539</td>\n",
              "      <td>6.582728</td>\n",
              "      <td>393.453186</td>\n",
              "      <td>-2.426803</td>\n",
              "      <td>473.187347</td>\n",
              "      <td>jazz</td>\n",
              "    </tr>\n",
              "  </tbody>\n",
              "</table>\n",
              "<p>5 rows × 60 columns</p>\n",
              "</div>\n",
              "      <button class=\"colab-df-convert\" onclick=\"convertToInteractive('df-0ee9952c-a644-4aac-990a-86df61f93404')\"\n",
              "              title=\"Convert this dataframe to an interactive table.\"\n",
              "              style=\"display:none;\">\n",
              "        \n",
              "  <svg xmlns=\"http://www.w3.org/2000/svg\" height=\"24px\"viewBox=\"0 0 24 24\"\n",
              "       width=\"24px\">\n",
              "    <path d=\"M0 0h24v24H0V0z\" fill=\"none\"/>\n",
              "    <path d=\"M18.56 5.44l.94 2.06.94-2.06 2.06-.94-2.06-.94-.94-2.06-.94 2.06-2.06.94zm-11 1L8.5 8.5l.94-2.06 2.06-.94-2.06-.94L8.5 2.5l-.94 2.06-2.06.94zm10 10l.94 2.06.94-2.06 2.06-.94-2.06-.94-.94-2.06-.94 2.06-2.06.94z\"/><path d=\"M17.41 7.96l-1.37-1.37c-.4-.4-.92-.59-1.43-.59-.52 0-1.04.2-1.43.59L10.3 9.45l-7.72 7.72c-.78.78-.78 2.05 0 2.83L4 21.41c.39.39.9.59 1.41.59.51 0 1.02-.2 1.41-.59l7.78-7.78 2.81-2.81c.8-.78.8-2.07 0-2.86zM5.41 20L4 18.59l7.72-7.72 1.47 1.35L5.41 20z\"/>\n",
              "  </svg>\n",
              "      </button>\n",
              "      \n",
              "  <style>\n",
              "    .colab-df-container {\n",
              "      display:flex;\n",
              "      flex-wrap:wrap;\n",
              "      gap: 12px;\n",
              "    }\n",
              "\n",
              "    .colab-df-convert {\n",
              "      background-color: #E8F0FE;\n",
              "      border: none;\n",
              "      border-radius: 50%;\n",
              "      cursor: pointer;\n",
              "      display: none;\n",
              "      fill: #1967D2;\n",
              "      height: 32px;\n",
              "      padding: 0 0 0 0;\n",
              "      width: 32px;\n",
              "    }\n",
              "\n",
              "    .colab-df-convert:hover {\n",
              "      background-color: #E2EBFA;\n",
              "      box-shadow: 0px 1px 2px rgba(60, 64, 67, 0.3), 0px 1px 3px 1px rgba(60, 64, 67, 0.15);\n",
              "      fill: #174EA6;\n",
              "    }\n",
              "\n",
              "    [theme=dark] .colab-df-convert {\n",
              "      background-color: #3B4455;\n",
              "      fill: #D2E3FC;\n",
              "    }\n",
              "\n",
              "    [theme=dark] .colab-df-convert:hover {\n",
              "      background-color: #434B5C;\n",
              "      box-shadow: 0px 1px 3px 1px rgba(0, 0, 0, 0.15);\n",
              "      filter: drop-shadow(0px 1px 2px rgba(0, 0, 0, 0.3));\n",
              "      fill: #FFFFFF;\n",
              "    }\n",
              "  </style>\n",
              "\n",
              "      <script>\n",
              "        const buttonEl =\n",
              "          document.querySelector('#df-0ee9952c-a644-4aac-990a-86df61f93404 button.colab-df-convert');\n",
              "        buttonEl.style.display =\n",
              "          google.colab.kernel.accessAllowed ? 'block' : 'none';\n",
              "\n",
              "        async function convertToInteractive(key) {\n",
              "          const element = document.querySelector('#df-0ee9952c-a644-4aac-990a-86df61f93404');\n",
              "          const dataTable =\n",
              "            await google.colab.kernel.invokeFunction('convertToInteractive',\n",
              "                                                     [key], {});\n",
              "          if (!dataTable) return;\n",
              "\n",
              "          const docLinkHtml = 'Like what you see? Visit the ' +\n",
              "            '<a target=\"_blank\" href=https://colab.research.google.com/notebooks/data_table.ipynb>data table notebook</a>'\n",
              "            + ' to learn more about interactive tables.';\n",
              "          element.innerHTML = '';\n",
              "          dataTable['output_type'] = 'display_data';\n",
              "          await google.colab.output.renderOutput(dataTable, element);\n",
              "          const docLink = document.createElement('div');\n",
              "          docLink.innerHTML = docLinkHtml;\n",
              "          element.appendChild(docLink);\n",
              "        }\n",
              "      </script>\n",
              "    </div>\n",
              "  </div>\n",
              "  "
            ],
            "text/plain": [
              "         filename    length  chroma_stft_mean  chroma_stft_var  rms_mean  \\\n",
              "0  jazz.00000.wav  661500.0          0.344568         0.085005  0.046768   \n",
              "1  jazz.00003.wav  661500.0          0.319313         0.081005  0.059496   \n",
              "2  jazz.00002.wav  661500.0          0.267640         0.083949  0.080840   \n",
              "3  jazz.00005.wav  661500.0          0.248236         0.096418  0.107555   \n",
              "4  jazz.00004.wav  661500.0          0.171782         0.082596  0.108786   \n",
              "\n",
              "    rms_var  spectral_centroid_mean  spectral_centroid_var  \\\n",
              "0  0.001543             1504.404759          554635.808130   \n",
              "1  0.001298              813.293729           92950.399709   \n",
              "2  0.000992             1064.810564          161183.061715   \n",
              "3  0.002236             1268.061497          286543.046719   \n",
              "4  0.002178             1039.623420          122521.889902   \n",
              "\n",
              "   spectral_bandwidth_mean  spectral_bandwidth_var  ...  mfcc16_var  \\\n",
              "0              1754.409592           283727.376842  ...   50.317745   \n",
              "1              1058.898921           220025.916341  ...   47.350842   \n",
              "2              1050.419172            62157.266400  ...   39.972137   \n",
              "3              1546.300122           236694.493580  ...  229.317825   \n",
              "4              1422.303098            77324.475593  ...  162.859573   \n",
              "\n",
              "   mfcc17_mean  mfcc17_var  mfcc18_mean  mfcc18_var  mfcc19_mean  mfcc19_var  \\\n",
              "0    -1.502332   41.169983     0.221480   55.749470    -1.991628   50.034637   \n",
              "1    -2.272845   54.629692     3.883317   38.872822     0.344252   50.070782   \n",
              "2   -12.295748   54.781208    -6.769270   45.765415    -3.495534   41.461681   \n",
              "3     0.863595  405.584015     0.953356  332.244568     1.736951  193.131317   \n",
              "4     1.991310  181.093201     4.985074  162.339539     6.582728  393.453186   \n",
              "\n",
              "   mfcc20_mean  mfcc20_var  label  \n",
              "0    -3.348313   49.907917   jazz  \n",
              "1    -2.214156   56.304241   jazz  \n",
              "2    -8.644752   73.453781   jazz  \n",
              "3    -1.345491  212.923080   jazz  \n",
              "4    -2.426803  473.187347   jazz  \n",
              "\n",
              "[5 rows x 60 columns]"
            ]
          },
          "execution_count": 28,
          "metadata": {},
          "output_type": "execute_result"
        }
      ],
      "source": [
        "knn_30_path = path + \"/features_30_sec.csv\"\n",
        "knn_30_data = pd.read_csv(knn_30_path)\n",
        "knn_30_data.head()"
      ]
    },
    {
      "cell_type": "code",
      "execution_count": null,
      "metadata": {
        "colab": {
          "base_uri": "https://localhost:8080/"
        },
        "id": "ucXQKwfAU3eX",
        "outputId": "ac8d5bd5-d6ed-4051-f8cf-872270f70b3b"
      },
      "outputs": [
        {
          "data": {
            "text/plain": [
              "1000"
            ]
          },
          "execution_count": 35,
          "metadata": {},
          "output_type": "execute_result"
        }
      ],
      "source": [
        "len(knn_30_data)"
      ]
    },
    {
      "cell_type": "code",
      "execution_count": null,
      "metadata": {
        "id": "q4QFVwg5QVvY"
      },
      "outputs": [],
      "source": [
        "knn_30_data = knn_30_data.iloc[0:, 1:]\n",
        "knn_30_y = knn_30_data[\"label\"]\n",
        "knn_30_x = knn_30_data.loc[:, knn_30_data.columns != 'label']\n",
        "\n",
        "# Normalize X\n",
        "x30cols = knn_30_x.columns\n",
        "min_max_scaler = preprocessing.MinMaxScaler()\n",
        "np_scaled = min_max_scaler.fit_transform(knn_30_x)\n",
        "\n",
        "knn_30_x = pd.DataFrame(np_scaled, columns = x30cols)"
      ]
    },
    {
      "cell_type": "code",
      "execution_count": null,
      "metadata": {
        "id": "qotBQTsRQnQU"
      },
      "outputs": [],
      "source": [
        "knn30_X_train, knn30_X_test, knn30_y_train, knn30_y_test = train_test_split(knn_30_x, knn_30_y, test_size=0.3, random_state=42)"
      ]
    },
    {
      "cell_type": "code",
      "execution_count": null,
      "metadata": {
        "colab": {
          "base_uri": "https://localhost:8080/"
        },
        "id": "5HJHVckHc6Ly",
        "outputId": "f705b1dc-1fe9-40e7-9f3e-33fedde01e4f"
      },
      "outputs": [
        {
          "name": "stdout",
          "output_type": "stream",
          "text": [
            "Accuracy of KNN model with 30 seconds interval dataset, 5 nearest neighbours:  0.62667\n"
          ]
        }
      ],
      "source": [
        "knn30_5 = KNeighborsClassifier(n_neighbors=10)\n",
        "knn30_5.fit(knn30_X_train, knn30_y_train)\n",
        "y30_5_pred = knn30_5.predict(knn30_X_test)\n",
        "print('Accuracy of KNN model with 30 seconds interval dataset, 5 nearest neighbours: ', round(accuracy_score(knn30_y_test, y30_5_pred), 5))"
      ]
    },
    {
      "cell_type": "code",
      "execution_count": null,
      "metadata": {
        "colab": {
          "base_uri": "https://localhost:8080/"
        },
        "id": "hPbIncw8QvNH",
        "outputId": "049be619-3b44-4cb9-c5fb-544365047d2c"
      },
      "outputs": [
        {
          "name": "stdout",
          "output_type": "stream",
          "text": [
            "Accuracy of KNN model:  0.57333\n"
          ]
        }
      ],
      "source": [
        "knn30 = KNeighborsClassifier(n_neighbors=20)\n",
        "knn30.fit(knn30_X_train, knn30_y_train)\n",
        "y30_pred = knn30.predict(knn30_X_test)\n",
        "print('Accuracy of KNN model: ', round(accuracy_score(knn30_y_test, y30_pred), 5))"
      ]
    },
    {
      "cell_type": "code",
      "execution_count": null,
      "metadata": {
        "colab": {
          "base_uri": "https://localhost:8080/"
        },
        "id": "_0PidIpEUuwH",
        "outputId": "332f7477-54dc-422d-9325-4e3338cb76fc"
      },
      "outputs": [
        {
          "name": "stdout",
          "output_type": "stream",
          "text": [
            "Accuracy of KNN model:  0.44667\n"
          ]
        }
      ],
      "source": [
        "knn30_ALL = KNeighborsClassifier(n_neighbors=100)\n",
        "knn30_ALL.fit(knn30_X_train, knn30_y_train)\n",
        "y30_ALL_pred = knn30_ALL.predict(knn30_X_test)\n",
        "print('Accuracy of KNN model: ', round(accuracy_score(knn30_y_test, y30_ALL_pred), 5))"
      ]
    },
    {
      "cell_type": "code",
      "execution_count": null,
      "metadata": {
        "id": "wWGG0H7cvKW8"
      },
      "outputs": [],
      "source": [
        "from sklearn.decomposition import PCA\n",
        "\n",
        "pca = PCA(n_components=2)\n",
        "principalComponents = pca.fit_transform(knn_x)\n",
        "principalDf = pd.DataFrame(data = principalComponents, columns = ['principal component 1', 'principal component 2'])\n",
        "\n",
        "pcadf = pd.concat([principalDf, knn_y], axis = 1)\n",
        "\n",
        "pca_y = pcadf[\"label\"]\n",
        "pca_x = pcadf.loc[:, pcadf.columns != 'label']"
      ]
    },
    {
      "cell_type": "code",
      "execution_count": null,
      "metadata": {
        "colab": {
          "base_uri": "https://localhost:8080/"
        },
        "id": "EA8HGLaRv4nB",
        "outputId": "9347047d-88fe-4286-ac89-ea76d6a088a3"
      },
      "outputs": [
        {
          "name": "stderr",
          "output_type": "stream",
          "text": [
            "/usr/local/lib/python3.7/dist-packages/sklearn/base.py:451: UserWarning: X does not have valid feature names, but KNeighborsClassifier was fitted with feature names\n",
            "  \"X does not have valid feature names, but\"\n"
          ]
        }
      ],
      "source": [
        "from matplotlib.colors import ListedColormap\n",
        "# split data into training and testing set\n",
        "X_train, X_test, y_train, y_test = train_test_split(pca_x, pca_y, test_size = 0.33, random_state = 41)\n",
        "\n",
        "# init vars\n",
        "n_neighbors = 5\n",
        "h = .02  # step size in the mesh\n",
        "\n",
        "# Create color maps\n",
        "cmap_light = ListedColormap(['#FFAAAA', '#AAAAFF'])\n",
        "cmap_bold  = ListedColormap(['#FF0000', '#0000FF'])\n",
        "\n",
        "knn_pca = KNeighborsClassifier(n_neighbors=10)\n",
        "knn_pca.fit(X_train, y_train)\n",
        "\n",
        "x_min, x_max = pca_x.to_numpy()[:, 0].min() - 1, pca_x.to_numpy()[:, 0].max() + 1\n",
        "y_min, y_max = pca_x.to_numpy()[:, 1].min() - 1, pca_x.to_numpy()[:, 1].max() + 1\n",
        "xx, yy = np.meshgrid(np.arange(x_min, x_max, h),\n",
        "                      np.arange(y_min, y_max, h))\n",
        "Z = knn_pca.predict(np.c_[xx.ravel(), yy.ravel()])"
      ]
    },
    {
      "cell_type": "code",
      "execution_count": null,
      "metadata": {
        "id": "RybLH_a2wogW"
      },
      "outputs": [],
      "source": [
        "color_list = ListedColormap([\"Accent\", \"Blues\", \"BuGn\", \"PiYG\", \"PuBuGn_r\", \"Purples\", \"RdYlBu_r\", \"autumn\",\"bone\", \"gist_heat\"])\n",
        "cmap_light = ListedColormap(['#FFAAAA', '#AAAAFF'])\n",
        "\n",
        "Z = Z.reshape(xx.shape)\n",
        "fig = plt.figure()\n",
        "\n",
        "plt.pcolormesh(xx, yy, Z, cmap = cmap_light)\n",
        "\n",
        "# Plot also the training points, x-axis = 'Glucose', y-axis = \"BMI\"\n",
        "# plt.scatter(pca_x.to_numpy()[:, 0], pca_x.to_numpy()[:, 1], c = color_list)\n",
        "# plt.xlim(xx.min(), xx.max())\n",
        "# plt.ylim(yy.min(), yy.max())\n",
        "# plt.title(\"0/1 outcome classification (k = %i, weights = '%s')\" % (5, \"Default\"))\n",
        "# plt.show()"
      ]
    },
    {
      "cell_type": "code",
      "execution_count": null,
      "metadata": {
        "colab": {
          "base_uri": "https://localhost:8080/"
        },
        "id": "UYGkEq0r2ArL",
        "outputId": "c674e5dc-d0ad-4a52-e492-4c48dba8575d"
      },
      "outputs": [
        {
          "data": {
            "text/plain": [
              "(192, 215)"
            ]
          },
          "execution_count": 160,
          "metadata": {},
          "output_type": "execute_result"
        }
      ],
      "source": [
        "Z.shape"
      ]
    },
    {
      "cell_type": "markdown",
      "metadata": {
        "id": "sY8WWwJtwaLc"
      },
      "source": [
        "# CNN Model"
      ]
    },
    {
      "cell_type": "markdown",
      "metadata": {
        "id": "YZ_rgHx2w6Gh"
      },
      "source": [
        "Data Loading & Splitting"
      ]
    },
    {
      "cell_type": "code",
      "execution_count": null,
      "metadata": {
        "id": "KOeWIW16UPFk"
      },
      "outputs": [],
      "source": [
        "def get_data(batch_size = 32):\n",
        "\n",
        "  mel_path = path + \"/MFCC_imgs\"\n",
        "  transform = transforms.Compose([transforms.ToTensor(),\n",
        "      transforms.Normalize((0.5, 0.5, 0.5, 0.5), (0.5, 0.5, 0.5, 0.5))])  #convert data into a tensor, and then normalize it\n",
        "\n",
        "  torch.manual_seed(620)\n",
        "\n",
        "  train_set = torchvision.datasets.ImageFolder(mel_path + \"/training\", loader = plt.imread, transform = transform)\n",
        "  valid_set = torchvision.datasets.ImageFolder(mel_path + \"/valid\", loader = plt.imread, transform = transform)\n",
        "\n",
        "  train_loader = torch.utils.data.DataLoader(train_set, batch_size=batch_size,\n",
        "                                               num_workers=1, shuffle=True)\n",
        "  val_loader = torch.utils.data.DataLoader(valid_set, batch_size=batch_size,\n",
        "                                               num_workers=1, shuffle=True)\n",
        "\n",
        "  return train_loader, val_loader"
      ]
    },
    {
      "cell_type": "markdown",
      "metadata": {
        "id": "XhDoHt3wUEYt"
      },
      "source": [
        "Accuracy Function"
      ]
    },
    {
      "cell_type": "code",
      "execution_count": null,
      "metadata": {
        "id": "4DXNK3BdUEBl"
      },
      "outputs": [],
      "source": [
        "def get_accuracy(net, loader, use_cuda = True):\n",
        "  total_accuracy = 0\n",
        "  total_epoch = 0\n",
        "\n",
        "  for imgs, labels in loader:\n",
        "    output = net(imgs)\n",
        "    pred = output.max(1, keepdim = True)[1]\n",
        "    total_accuracy += pred.eq(labels.view_as(pred)).sum().item()\n",
        "    total_epoch += labels.shape[0]\n",
        "  accuracy = float(total_accuracy) / total_epoch\n",
        "\n",
        "  return accuracy"
      ]
    },
    {
      "cell_type": "markdown",
      "metadata": {
        "id": "IrjHyiijwieb"
      },
      "source": [
        "Initialize CNN\n"
      ]
    },
    {
      "cell_type": "code",
      "execution_count": null,
      "metadata": {
        "id": "sL11GmedwgCw"
      },
      "outputs": [],
      "source": [
        "%matplotlib inline\n",
        "\n",
        "genre_count = 10 #num_genres\n",
        "\n",
        "#include drop_out\n",
        "\n",
        "\n",
        "class CNN(nn.Module):\n",
        "  def __init__(self, c1 = {\"in_ch\":4,\"out_ch\":8,\"k\":3, \"str\":1,\"pad\":0}, c2 = {\"in_ch\":8,\"out_ch\":16,\"k\":3,\"str\":1,\"pad\":0},\n",
        "               c3 =  {\"in_ch\":16,\"out_ch\":32,\"k\":3,\"str\":1,\"pad\":0}, c4 =  {\"in_ch\":32,\"out_ch\":64, \"k\":3,\"str\":1,\"pad\":0}, hyparam_fc1 = {\"size\":64}, gc = genre_count, dropout = 0.25):\n",
        "    torch.manual_seed(1000)\n",
        "    super(CNN, self).__init__()\n",
        "    self.conv1 = nn.Conv2d(c1[\"in_ch\"],c1[\"out_ch\"],c1[\"k\"],c1[\"str\"],padding = c1[\"pad\"])\n",
        "    self.pool1 = nn.MaxPool2d(2,2)\n",
        "    self.conv2 = nn.Conv2d(c2[\"in_ch\"],c2[\"out_ch\"],c2[\"k\"],c2[\"str\"],padding = c2[\"pad\"])\n",
        "    self.pool2 = nn.MaxPool2d(2,2)\n",
        "    self.conv3 = nn.Conv2d(c3[\"in_ch\"],c3[\"out_ch\"],c3[\"k\"],c3[\"str\"],padding = c3[\"pad\"])\n",
        "    self.pool3 = nn.MaxPool2d(2,2)\n",
        "    self.conv4 = nn.Conv2d(c4[\"in_ch\"],c4[\"out_ch\"],c4[\"k\"],c4[\"str\"],padding = c4[\"pad\"])\n",
        "\n",
        "    #computing input layer size assumming 4x288x432 sized images\n",
        "    self.paramsx1 = floor((288 - c1[\"k\"] + c1[\"pad\"])/c1[\"str\"]) + 1  #Convolution layer 1 x output\n",
        "    self.paramsx2 = floor((self.paramsx1 - 2)/2) + 1  #Pooling layer 1 x output\n",
        "    self.paramsx3 = floor((self.paramsx2 - c2[\"k\"] + c2[\"pad\"])/c2[\"str\"]) + 1   #Convolution layer 2 x output\n",
        "    self.paramsx4 = floor((self.paramsx3 - 2)/2) + 1  #Pooling layer 2 x output\n",
        "    self.paramsx5 = floor((self.paramsx4 - c3[\"k\"] + c3[\"pad\"])/c3[\"str\"]) + 1   #Convolution layer 2 x output\n",
        "    self.paramsx6 = floor((self.paramsx5 - 2)/2) + 1  #Pooling layer 2 x output\n",
        "    self.paramsx7 = floor((self.paramsx6 - c4[\"k\"] + c4[\"pad\"])/c4[\"str\"]) + 1   #Convolution layer 2 x output\n",
        "    self.paramsx8 = floor((self.paramsx7 - 2)/2) + 1  #Pooling layer 2 x output\n",
        "    # print(\"self.paramsx8 = \", self.paramsx8)\n",
        "\n",
        "    self.paramsy1 = floor((432 - c1[\"k\"] + c1[\"pad\"])/c1[\"str\"]) + 1\n",
        "    self.paramsy2 = floor((self.paramsy1 - 2)/2) + 1  #Pooling layer 1 y output\n",
        "    self.paramsy3 = floor((self.paramsy2 - c2[\"k\"] + c2[\"pad\"])/c2[\"str\"]) + 1   #Convolution layer 2 y output\n",
        "    self.paramsy4 = floor((self.paramsy3 - 2)/2) + 1  #Pooling layer 2 y output\n",
        "    self.paramsy5 = floor((self.paramsy4 - c3[\"k\"] + c3[\"pad\"])/c3[\"str\"]) + 1   #Convolution layer 2 x output\n",
        "    self.paramsy6 = floor((self.paramsy5 - 2)/2) + 1  #Pooling layer 2 x output\n",
        "    self.paramsy7 = floor((self.paramsy6 - c4[\"k\"] + c4[\"pad\"])/c4[\"str\"]) + 1   #Convolution layer 2 x output\n",
        "    self.paramsy8 = floor((self.paramsy7 - 2)/2) + 1  #Pooling layer 2 x output\n",
        "    # print(\"self.paramsy8 = \", self.paramsy8)\n",
        "\n",
        "\n",
        "    self.fc1 = nn.Linear(c4[\"out_ch\"]*self.paramsx8*self.paramsy8,hyparam_fc1[\"size\"])\n",
        "    self.fc2 = nn.Linear(hyparam_fc1[\"size\"],gc)\n",
        "    self.dropout = nn.Dropout(dropout)\n",
        "\n",
        "  def forward(self,x):\n",
        "    x = self.pool1(F.relu(self.conv1(x)))\n",
        "    x = self.pool1(F.relu(self.conv2(x)))\n",
        "    x = self.pool2(F.relu(self.conv3(x)))\n",
        "    x = self.pool3(F.relu(self.conv4(x)))\n",
        "    # print(\"x.shape = \", x.shape)\n",
        "    # print(\"x.shape[1] = \", x.shape[1])\n",
        "    x = x.view(-1,x.shape[1]*self.paramsx8*self.paramsy8)\n",
        "    x = F.relu(self.fc1(x))\n",
        "    x = self.fc2(x)  #use nn.crossentropy loss to automatically apply signmoid activation\n",
        "    return x"
      ]
    },
    {
      "cell_type": "markdown",
      "metadata": {
        "id": "O_mpMmq8UJfO"
      },
      "source": [
        "Training Function\n"
      ]
    },
    {
      "cell_type": "code",
      "execution_count": null,
      "metadata": {
        "id": "DM4pCWEbUQc8"
      },
      "outputs": [],
      "source": [
        "def train(model, lr = 0.001, epochs = 18, criterion = \"CE\", optimizer = \"Adam\", mom=0.5, batch_size = 32, weight_decay = 0):\n",
        "  '''inputs: nn model, training and validation data (torch.utils.data.DataLoader class), learning rate lr, no. of epochs, loss function criterion\n",
        "  outputs: trained model, accuracy plots'''\n",
        "  train_data, val_data = get_data(batch_size = batch_size)\n",
        "  #print(\"train_data = \", train_data)\n",
        "  loss_dict = {\"CE\": nn.CrossEntropyLoss()}\n",
        "  loss_f = loss_dict[criterion]\n",
        "\n",
        "  optim_dict = {\"SGD\": torch.optim.SGD(model.parameters(), lr, momentum=mom, weight_decay = weight_decay),\"Adam\":torch.optim.Adam(model.parameters(), lr = lr, weight_decay = weight_decay)}\n",
        "  opt = optim_dict[optimizer]\n",
        "  #optimizer = optim.Adam(model.parameters(), lr=lr, weight_decay = weight_decay)\n",
        "  eps = []\n",
        "  losses = []\n",
        "  train_accuracy = []\n",
        "  val_accuracy = []\n",
        "  patience = 0\n",
        "\n",
        "  #train model\n",
        "  start_time = time.time()\n",
        "  for epoch in range(epochs):\n",
        "    print(\"epoch = \", epoch)\n",
        "    iteration = 0\n",
        "\n",
        "    #early stop with patience\n",
        "    if epoch > 1:\n",
        "      if val_accuracy[epoch - 2] > val_accuracy[epoch - 1]:\n",
        "        patience+=1\n",
        "        print(\"patience = \", patience)\n",
        "      if patience > 8:\n",
        "        print(\"Error: Validation Accuracy Run-Off\")\n",
        "        break\n",
        "      if epoch > 13 and val_accuracy[epoch - 1]<0.25:\n",
        "        print(\"Error: Low Validation Accuracy\")\n",
        "        break\n",
        "\n",
        "\n",
        "    for (images, labels) in train_data:\n",
        "      #print(\"batch_no. = \", iteration)\n",
        "      iteration+=1\n",
        "      #print(\"shape =\", images.shape)\n",
        "\n",
        "    #make passes\n",
        "      outputs = model(images)    #make prediction; softmax applied by criterion\n",
        "      loss = loss_f(outputs, labels)\n",
        "      loss.backward()    #calculate gradient\n",
        "      opt.step()   #update model parameters\n",
        "      opt.zero_grad()   #clean up\n",
        "      #optimizer.step()\n",
        "      #optimizer.zero_grad()\n",
        "\n",
        "    #record information for epoch\n",
        "    eps.append(epoch)\n",
        "    losses.append(float(loss)/batch_size)\n",
        "    train_accuracy.append(get_accuracy(model,train_data))\n",
        "    val_acc = get_accuracy(model,val_data)\n",
        "    print(\"val acc: \", val_acc)\n",
        "    val_accuracy.append(val_acc)\n",
        "  end_time = time.time()\n",
        "  elapsed_time = end_time - start_time\n",
        "  print(\"Total time elapsed: {:.2f} seconds\".format(elapsed_time))\n",
        "  print(\"Final Training Loss: \", losses[-1])\n",
        "  print(\"Final Training Accuracy: \", train_accuracy[-1])\n",
        "  print(\"Final Val Accuracy: \", val_accuracy[-1])\n",
        "\n",
        "  #plotting\n",
        "  plt.title(\"Training Loss vs. Epochs\")\n",
        "  plt.plot(eps, losses, label=\"Training\")\n",
        "  plt.xlabel(\"Epochs\")\n",
        "  plt.ylabel(\"Loss\")\n",
        "  plt.show()\n",
        "\n",
        "  plt.title(\"Training Accuracy vs. Epochs\")\n",
        "  plt.plot(eps, train_accuracy, label=\"Train\")\n",
        "  plt.plot(eps, val_accuracy, label=\"Validation\")\n",
        "  plt.xlabel(\"Epochs\")\n",
        "  plt.ylabel(\"Accuracy\")\n",
        "  plt.legend(loc='best')\n",
        "  plt.show()\n",
        "\n",
        "  return model\n",
        "\n",
        "\n"
      ]
    },
    {
      "cell_type": "markdown",
      "metadata": {
        "id": "IvsHeTpW1dNR"
      },
      "source": [
        "Training & Hyperparameter Optimization"
      ]
    },
    {
      "cell_type": "code",
      "execution_count": null,
      "metadata": {
        "id": "44wla5SIv_CJ"
      },
      "outputs": [],
      "source": [
        "model = CNN()\n",
        "\n",
        "try4 = train(model, epochs = 1, batch_size = 64, lr = 0.001, optimizer =\"Adam\")"
      ]
    },
    {
      "cell_type": "code",
      "execution_count": null,
      "metadata": {
        "colab": {
          "base_uri": "https://localhost:8080/",
          "height": 1000
        },
        "id": "PH_Z8xN4SIlc",
        "outputId": "2655566b-a97a-47bd-ab2f-06910f96dafc"
      },
      "outputs": [
        {
          "name": "stdout",
          "output_type": "stream",
          "text": [
            "train_data =  <torch.utils.data.dataloader.DataLoader object at 0x7efdd9af6050>\n",
            "epoch =  0\n",
            "val acc:  0.22\n",
            "epoch =  1\n",
            "val acc:  0.22\n",
            "epoch =  2\n",
            "val acc:  0.26666666666666666\n",
            "epoch =  3\n",
            "val acc:  0.32\n",
            "epoch =  4\n",
            "val acc:  0.37333333333333335\n",
            "epoch =  5\n",
            "val acc:  0.3466666666666667\n",
            "epoch =  6\n",
            "patience =  1\n",
            "val acc:  0.38\n",
            "epoch =  7\n",
            "val acc:  0.38666666666666666\n",
            "epoch =  8\n",
            "val acc:  0.4066666666666667\n",
            "epoch =  9\n",
            "val acc:  0.46\n",
            "epoch =  10\n",
            "val acc:  0.5466666666666666\n",
            "epoch =  11\n",
            "val acc:  0.48\n",
            "epoch =  12\n",
            "patience =  2\n",
            "val acc:  0.49333333333333335\n",
            "epoch =  13\n",
            "val acc:  0.52\n",
            "epoch =  14\n",
            "val acc:  0.5466666666666666\n",
            "epoch =  15\n",
            "val acc:  0.5533333333333333\n",
            "epoch =  16\n",
            "val acc:  0.56\n",
            "epoch =  17\n",
            "val acc:  0.5466666666666666\n",
            "epoch =  18\n",
            "patience =  3\n",
            "val acc:  0.5466666666666666\n",
            "epoch =  19\n",
            "val acc:  0.5466666666666666\n",
            "Total time elapsed: 1475.18 seconds\n",
            "Final Training Loss:  0.010166766121983528\n",
            "Final Training Accuracy:  0.7364705882352941\n",
            "Final Val Accuracy:  0.5466666666666666\n"
          ]
        },
        {
          "data": {
            "image/png": "[encoded data removed]",
            "text/plain": [
              "<Figure size 432x288 with 1 Axes>"
            ]
          },
          "metadata": {},
          "output_type": "display_data"
        },
        {
          "data": {
            "image/png": "[encoded data removed]",
            "text/plain": [
              "<Figure size 432x288 with 1 Axes>"
            ]
          },
          "metadata": {},
          "output_type": "display_data"
        }
      ],
      "source": [
        "model5 = CNN()\n",
        "\n",
        "try5 = train(model5, epochs = 20, batch_size = 64, lr = 0.001, optimizer =\"Adam\")"
      ]
    },
    {
      "cell_type": "code",
      "execution_count": null,
      "metadata": {
        "colab": {
          "background_save": true,
          "base_uri": "https://localhost:8080/"
        },
        "id": "L4bLN6ZxQJ5I",
        "outputId": "981ff22e-1e92-4716-b6f5-341083a933e9"
      },
      "outputs": [
        {
          "name": "stdout",
          "output_type": "stream",
          "text": [
            "train_data =  <torch.utils.data.dataloader.DataLoader object at 0x7efdd878c950>\n",
            "epoch =  0\n",
            "val acc:  0.23333333333333334\n",
            "epoch =  1\n",
            "val acc:  0.18\n",
            "epoch =  2\n",
            "patience =  1\n",
            "val acc:  0.31333333333333335\n",
            "epoch =  3\n",
            "val acc:  0.2733333333333333\n",
            "epoch =  4\n",
            "patience =  2\n",
            "val acc:  0.36\n",
            "epoch =  5\n",
            "val acc:  0.3466666666666667\n",
            "epoch =  6\n",
            "patience =  3\n",
            "val acc:  0.36\n",
            "epoch =  7\n",
            "val acc:  0.3933333333333333\n",
            "epoch =  8\n",
            "val acc:  0.38666666666666666\n",
            "epoch =  9\n",
            "patience =  4\n",
            "val acc:  0.38\n",
            "epoch =  10\n",
            "patience =  5\n",
            "val acc:  0.37333333333333335\n",
            "epoch =  11\n",
            "patience =  6\n",
            "val acc:  0.46\n",
            "epoch =  12\n",
            "val acc:  0.44666666666666666\n",
            "epoch =  13\n",
            "patience =  7\n",
            "val acc:  0.4666666666666667\n",
            "epoch =  14\n",
            "val acc:  0.52\n",
            "epoch =  15\n",
            "val acc:  0.5666666666666667\n",
            "epoch =  16\n",
            "val acc:  0.5466666666666666\n",
            "epoch =  17\n",
            "patience =  8\n",
            "val acc:  0.5333333333333333\n",
            "epoch =  18\n",
            "patience =  9\n",
            "Error: Validation Accuracy Run-Off\n",
            "Total time elapsed: 1322.87 seconds\n",
            "Final Training Loss:  0.016259804368019104\n",
            "Final Training Accuracy:  0.7411764705882353\n",
            "Final Val Accuracy:  0.5333333333333333\n"
          ]
        },
        {
          "data": {
            "image/png": "[encoded data removed]",
            "text/plain": [
              "<Figure size 432x288 with 1 Axes>"
            ]
          },
          "metadata": {},
          "output_type": "display_data"
        },
        {
          "data": {
            "image/png": "[encoded data removed]",
            "text/plain": [
              "<Figure size 432x288 with 1 Axes>"
            ]
          },
          "metadata": {},
          "output_type": "display_data"
        }
      ],
      "source": [
        "model6 = CNN()\n",
        "\n",
        "try6 = train(model6, epochs = 20, batch_size = 64, lr = 0.001, optimizer =\"Adam\", weight_decay = 0.001)"
      ]
    },
    {
      "cell_type": "markdown",
      "metadata": {
        "id": "g7sz4ah_SIEI"
      },
      "source": [
        "Qualitative Testing"
      ]
    },
    {
      "cell_type": "code",
      "execution_count": null,
      "metadata": {
        "id": "snTV5IDIfA3Q"
      },
      "outputs": [],
      "source": [
        "def qual_test(model, batch_size = 16):\n",
        "  mel_path = path + \"/Qual_testing\"\n",
        "  transform = transforms.Compose([transforms.ToTensor(),\n",
        "                                transforms.Normalize((0.5, 0.5, 0.5, 0.5), (0.5, 0.5, 0.5, 0.5))])  #convert data into a tensor, and then normalize it\n",
        "  torch.manual_seed(1000)\n",
        "  genres = [\"blues\",\"classical\",\"country\",\"disco\",\"hiphop\",\"jazz\",\"metal\",\"pop\",\"reggae\",\"rock\"]\n",
        "  accuracies = []\n",
        "  for genre in genres:\n",
        "    print(\"genre = \",genre)\n",
        "    v_set = torchvision.datasets.ImageFolder(mel_path + '/' + genre, loader = plt.imread, transform = transform)\n",
        "    v_set_loader = torch.utils.data.DataLoader(v_set, batch_size=batch_size, num_workers=1, shuffle=True)\n",
        "    accuracy = get_accuracy(model,v_set_loader)\n",
        "    accuracies.append(accuracy)\n",
        "    print(\"accuracy = \", accuracy)\n",
        "\n",
        "  plt.title(\"Validation Accuracy By Genre\")\n",
        "  plt.scatter(genres, accuracies)\n",
        "  plt.xlabel(\"Genres\")\n",
        "  plt.ylabel(\"Validation Accuracy\")\n",
        "  plt.show()"
      ]
    },
    {
      "cell_type": "code",
      "execution_count": null,
      "metadata": {
        "colab": {
          "base_uri": "https://localhost:8080/",
          "height": 635
        },
        "id": "1nUbxU9516X6",
        "outputId": "d7d3a954-ac90-4aef-f9d5-cedfab1a65d5"
      },
      "outputs": [
        {
          "name": "stdout",
          "output_type": "stream",
          "text": [
            "genre =  blues\n",
            "accuracy =  0.4666666666666667\n",
            "genre =  classical\n",
            "accuracy =  0.0\n",
            "genre =  country\n",
            "accuracy =  0.0\n",
            "genre =  disco\n",
            "accuracy =  0.0\n",
            "genre =  hiphop\n",
            "accuracy =  0.06666666666666667\n",
            "genre =  jazz\n",
            "accuracy =  0.13333333333333333\n",
            "genre =  metal\n",
            "accuracy =  0.0\n",
            "genre =  pop\n",
            "accuracy =  0.0\n",
            "genre =  reggae\n",
            "accuracy =  0.0\n",
            "genre =  rock\n",
            "accuracy =  0.0\n"
          ]
        },
        {
          "data": {
            "image/png": "[encoded data removed]",
            "text/plain": [
              "<Figure size 432x288 with 1 Axes>"
            ]
          },
          "metadata": {},
          "output_type": "display_data"
        }
      ],
      "source": [
        "batch_size = 16\n",
        "mel_path = path + \"/Qual_testing\"\n",
        "transform = transforms.Compose([transforms.ToTensor(),\n",
        "                                transforms.Normalize((0.5, 0.5, 0.5, 0.5), (0.5, 0.5, 0.5, 0.5))])  #convert data into a tensor, and then normalize it\n",
        "torch.manual_seed(1000)\n",
        "genres = [\"blues\",\"classical\",\"country\",\"disco\",\"hiphop\",\"jazz\",\"metal\",\"pop\",\"reggae\",\"rock\"]\n",
        "sets = []\n",
        "accuracies = []\n",
        "\n",
        "for genre in genres:\n",
        "  print(\"genre = \",genre)\n",
        "  v_set = torchvision.datasets.ImageFolder(mel_path + '/' + genre, loader = plt.imread, transform = transform)\n",
        "  v_set_loader = torch.utils.data.DataLoader(v_set, batch_size=batch_size, num_workers=1, shuffle=True)\n",
        "  accuracy = get_accuracy(model,v_set_loader)\n",
        "  accuracies.append(accuracy)\n",
        "  print(\"accuracy = \", accuracy)\n",
        "\n",
        "\n",
        "plt.title(\"Validation Accuracy By Genre\")\n",
        "plt.scatter(genres, accuracies)\n",
        "plt.xlabel(\"Genres\")\n",
        "plt.ylabel(\"Validation Accuracy\")\n",
        "plt.show()"
      ]
    },
    {
      "cell_type": "code",
      "execution_count": null,
      "metadata": {
        "colab": {
          "base_uri": "https://localhost:8080/",
          "height": 635
        },
        "id": "H0OCU2L5fogu",
        "outputId": "a39bad5b-19ad-4b87-8d8a-7f9b76575d04"
      },
      "outputs": [
        {
          "name": "stdout",
          "output_type": "stream",
          "text": [
            "genre =  blues\n",
            "accuracy =  0.4666666666666667\n",
            "genre =  classical\n",
            "accuracy =  0.0\n",
            "genre =  country\n",
            "accuracy =  0.0\n",
            "genre =  disco\n",
            "accuracy =  0.0\n",
            "genre =  hiphop\n",
            "accuracy =  0.06666666666666667\n",
            "genre =  jazz\n",
            "accuracy =  0.13333333333333333\n",
            "genre =  metal\n",
            "accuracy =  0.0\n",
            "genre =  pop\n",
            "accuracy =  0.0\n",
            "genre =  reggae\n",
            "accuracy =  0.0\n",
            "genre =  rock\n",
            "accuracy =  0.0\n"
          ]
        },
        {
          "data": {
            "image/png": "[encoded data removed]",
            "text/plain": [
              "<Figure size 432x288 with 1 Axes>"
            ]
          },
          "metadata": {},
          "output_type": "display_data"
        }
      ],
      "source": [
        "qual_test(try6)"
      ]
    },
    {
      "cell_type": "markdown",
      "metadata": {
        "id": "QIGhsAxFF2Qz"
      },
      "source": [
        "# Transformer"
      ]
    },
    {
      "cell_type": "code",
      "execution_count": null,
      "metadata": {
        "id": "MrzzKPwOfwRn"
      },
      "outputs": [],
      "source": [
        "def patchify(images, n_x_patches, n_y_patches):\n",
        "  n, c, w, h = images.shape\n",
        "\n",
        "  ps_x = w//n_x_patches   #patch size in x\n",
        "  ps_y = h//n_y_patches   #patch size in y\n",
        "\n",
        "  patches = torch.zeros(n, n_x_patches*n_y_patches, c*ps_x*ps_y)\n",
        "\n",
        "\n",
        "\n",
        "  idx = 0\n",
        "  for image in images:\n",
        "\n",
        "    for i in range(n_x_patches):\n",
        "      for j in range(n_y_patches):\n",
        "        patch = image[:, i*ps_x:(i+1)*ps_x, j*ps_y:(j+1)*ps_y]\n",
        "\n",
        "        patches[idx,i * n_y_patches + j] = patch.flatten()\n",
        "\n",
        "    idx+=1\n",
        "\n",
        "  return patches   #3d Tensor of N images containing n_x x n_y patches next to each other. Each patch has c x patch_size_x x patch_size_y dimensions.\n"
      ]
    },
    {
      "cell_type": "code",
      "execution_count": null,
      "metadata": {
        "id": "i1f7K_c9i8rF"
      },
      "outputs": [],
      "source": [
        "def get_positional_embeddings(seq_len,d):    #always rectangular\n",
        "  embeddings = torch.zeros(seq_len,d)\n",
        "\n",
        "  for i in range(seq_len):\n",
        "    for j in range(d):\n",
        "      if j%2 == 0:\n",
        "        embeddings[i][j] = np.sin(i/(10000**(j/d)))\n",
        "\n",
        "      else:\n",
        "        embeddings[i][j] = np.cos(i/10000**((j-1)/d))\n",
        "\n",
        "  return embeddings"
      ]
    },
    {
      "cell_type": "code",
      "execution_count": null,
      "metadata": {
        "id": "dgr9x1n5jDRE"
      },
      "outputs": [],
      "source": [
        "class Encoder(nn.Module):\n",
        "  torch.manual_seed(620)\n",
        "  def __init__(self, input_size = 100, hidden_size = 100, num_heads = 4):   #Num_heads = num_patches\n",
        "    super(Encoder,self).__init__()\n",
        "    self.linear_q = nn.Linear(input_size, hidden_size)\n",
        "    self.linear_k = nn.Linear(input_size, hidden_size)\n",
        "    self.linear_v = nn.Linear(input_size, hidden_size)\n",
        "    self.linear_x = nn.Linear(input_size, hidden_size)\n",
        "    self.attention = nn.MultiheadAttention(hidden_size, num_heads, batch_first = True)   #Batch_first ensures the same dimensions as the patchified tensor.\n",
        "\n",
        "    self.ff = nn.Sequential(nn.Linear(hidden_size, hidden_size),nn.ReLU(),nn.Linear(hidden_size,hidden_size)) #feed forward neural network in encoder\n",
        "\n",
        "    self.norm = nn.LayerNorm(hidden_size)\n",
        "\n",
        "\n",
        "  def forward(self, x): #x is image vector in this case?\n",
        "    q, k, v = self.linear_q(x),self.linear_k(x),self.linear_v(x)  #get q, k and v layers for x\n",
        "    x = self.norm(self.linear_x(x) + self.attention(q,k,v)[0]) #residual connection. MhA gives tuple: (attn_output, attn_output_weights)\n",
        "    x = self.norm(x + self.ff(x))\n",
        "\n",
        "    return x\n"
      ]
    },
    {
      "cell_type": "code",
      "execution_count": null,
      "metadata": {
        "id": "nZ5D7PKAlH_U"
      },
      "outputs": [],
      "source": [
        "##When you call this class, please change:\n",
        "#1) c,w,h to reflect the right image dimensions\n",
        "#2) n_x_patches and n_y_patches to ensure w//n_x_patches == h//n_y_patches\n",
        "#3) num_classes to reflect the appropriate # of genres for the datatset\n",
        "\n",
        "%matplotlib inline\n",
        "\n",
        "class Transformer(nn.Module):\n",
        "  torch.manual_seed(620)\n",
        "  def __init__(self, num_class = 10, num_blocks = 2, n_x_patches = 24,\n",
        "               n_y_patches = 36, c = 4, w = 288, h = 432, d = 64, dropout = 0.25):   #num_class = genre_count; d = hidden size\n",
        "\n",
        "    super(Transformer, self).__init__()\n",
        "\n",
        "    #define parameters for forward method\n",
        "    self.n_x_patches = n_x_patches\n",
        "    self.n_y_patches = n_y_patches\n",
        "    self.num_blocks = num_blocks\n",
        "\n",
        "    #linear projection of each token to a flattened vectors\n",
        "    self.linear_x = nn.Linear(c*w//n_x_patches*h//n_y_patches, d)\n",
        "\n",
        "    #create classification token\n",
        "    self.class_token = nn.Parameter(torch.rand(1, d))\n",
        "\n",
        "    #get positional embeddings spanning all token positions\n",
        "    self.pos = get_positional_embeddings(n_x_patches*n_y_patches + 1,d)   #+1 for classification token\n",
        "\n",
        "    #encoder\n",
        "    self.encoder = Encoder(d, d)\n",
        "\n",
        "    #dropout layer\n",
        "    self.dropout = nn.Dropout(dropout)\n",
        "\n",
        "    #classficiation layer\n",
        "    self.fc = nn.Linear(d, num_class)\n",
        "\n",
        "\n",
        "\n",
        "  def forward(self, x):  #x is batch of N images\n",
        "    n,c,w,h = x.shape\n",
        "\n",
        "    #construct patches\n",
        "    patches = patchify(x, self.n_x_patches, self.n_y_patches)  #N x (n_x_patches x n_y_patches)\n",
        "\n",
        "    #Obtain linear projections for all tokens of N images\n",
        "    toks = self.linear_x(patches)\n",
        "\n",
        "    #Add classification token\n",
        "    tokens = torch.stack([torch.vstack((self.class_token, toks[i])) for i in range(len(toks))]) #Make classification token come first in all N images\n",
        "\n",
        "    #Expand positional embeddings to match N images\n",
        "    pos = self.pos.repeat(n,1,1)\n",
        "    output = tokens + pos\n",
        "\n",
        "    for i in range(self.num_blocks):\n",
        "      output = self.encoder(output)\n",
        "\n",
        "    #Get classification token only\n",
        "    final_out = output[:,0]\n",
        "\n",
        "    #Dropout layer\n",
        "    final_out = self.dropout(final_out)\n",
        "\n",
        "    #pass to classification FC NN\n",
        "    return self.fc(final_out)"
      ]
    },
    {
      "cell_type": "code",
      "execution_count": null,
      "metadata": {
        "id": "q4G1L3S7jHze"
      },
      "outputs": [],
      "source": [
        "##Please make sure get_data function redirects to the right dataset that you want to use\n",
        "\n",
        "def ttrain(model, lr = 0.001, epochs = 20, criterion = \"CE\", optimizer = \"Adam\", mom=0.5, batch_size = 32, weight_decay = 0.001):\n",
        "\n",
        "  '''inputs: nn model, training and validation data (torch.utils.data.DataLoader class), learning rate lr, no. of epochs, loss function criterion\n",
        "  outputs: trained model, accuracy plots'''\n",
        "\n",
        "  train_data, val_data = get_data(batch_size) #Please make sure get_data function redirects to the right dataset that you want to use\n",
        "  loss_dict = {\"CE\": nn.CrossEntropyLoss()}\n",
        "  loss_f = loss_dict[criterion]\n",
        "\n",
        "  optim_dict = {\"SGD\": torch.optim.SGD(model.parameters(), lr, momentum=mom, weight_decay = weight_decay),\"Adam\":torch.optim.Adam(model.parameters(), lr = lr, weight_decay = weight_decay)}\n",
        "  opt = optim_dict[optimizer]\n",
        "\n",
        "  eps = []\n",
        "  losses = []\n",
        "  train_accuracy = []\n",
        "  val_accuracy = []\n",
        "  patience = 0\n",
        "\n",
        "  #train model\n",
        "  start_time = time.time()\n",
        "  for epoch in range(epochs):\n",
        "    print(\"epoch = \", epoch)\n",
        "    iteration = 0\n",
        "\n",
        "    #early stop with patience\n",
        "    if epoch > 1:\n",
        "      if val_accuracy[epoch - 2] > val_accuracy[epoch - 1]:\n",
        "        patience+=1\n",
        "        print(\"patience = \", patience)\n",
        "      if patience > 12:\n",
        "        print(\"Error: Validation Accuracy Run-Off\")\n",
        "        break\n",
        "      #if epoch > 13 and val_accuracy[epoch - 1]<0.5:\n",
        "        #print(\"Error: Low Validation Accuracy\")\n",
        "        #break\n",
        "\n",
        "      if val_accuracy[epoch - 1] > 0.91:\n",
        "        break\n",
        "\n",
        "\n",
        "    for (images, labels) in train_data:\n",
        "      #print(\"batch_no. = \", iteration)\n",
        "      #iteration+=1\n",
        "      #print(\"shape =\", images.shape)\n",
        "\n",
        "    #make passes\n",
        "      outputs = model(images)    #make prediction; softmax applied by criterion\n",
        "      loss = loss_f(outputs, labels)\n",
        "      loss.backward()    #calculate gradient\n",
        "      opt.step()   #update model parameters\n",
        "      opt.zero_grad()   #clean up\n",
        "\n",
        "    #record information for epoch\n",
        "    eps.append(epoch)\n",
        "    losses.append(float(loss)/batch_size)\n",
        "    train_accuracy.append(get_accuracy(model,train_data))\n",
        "    val_acc = get_accuracy(model,val_data)\n",
        "    print(\"val acc: \", val_acc)\n",
        "    val_accuracy.append(val_acc)\n",
        "\n",
        "  end_time = time.time()\n",
        "  elapsed_time = end_time - start_time\n",
        "  print(\"Total time elapsed: {:.2f} seconds\".format(elapsed_time))\n",
        "  print(\"Final Training Loss: \", losses[-1])\n",
        "  print(\"Final Training Accuracy: \", train_accuracy[-1])\n",
        "  print(\"Final Val Accuracy: \", val_accuracy[-1])\n",
        "\n",
        "  #plotting\n",
        "  plt.title(\"Training Loss vs. Epochs\")\n",
        "  plt.plot(eps, losses, label=\"Training\")\n",
        "  plt.xlabel(\"Epochs\")\n",
        "  plt.ylabel(\"Loss\")\n",
        "  plt.show()\n",
        "\n",
        "  plt.title(\"Accuracy vs. Epochs\")\n",
        "  plt.plot(eps, train_accuracy, label=\"Train\")\n",
        "  plt.plot(eps, val_accuracy, label=\"Validation\")\n",
        "  plt.xlabel(\"Epochs\")\n",
        "  plt.ylabel(\"Accuracy\")\n",
        "  plt.legend(loc='best')\n",
        "  plt.show()\n",
        "\n",
        "  return model"
      ]
    },
    {
      "cell_type": "markdown",
      "metadata": {
        "id": "obU-c-IlbgWH"
      },
      "source": [
        "Transformer Training"
      ]
    },
    {
      "cell_type": "code",
      "execution_count": null,
      "metadata": {
        "colab": {
          "base_uri": "https://localhost:8080/"
        },
        "id": "D_FrpPGPjNYd",
        "outputId": "19e7ff3e-0268-42f4-acd2-c4ab3c2f7ef1"
      },
      "outputs": [
        {
          "name": "stdout",
          "output_type": "stream",
          "text": [
            "epoch =  0\n"
          ]
        }
      ],
      "source": [
        "tmodel1 = Transformer(num_class = 8, num_blocks = 3, n_x_patches = 24,\n",
        "               n_y_patches = 32, c = 4, w = 480, h = 640, d = 64, dropout = 0)\n",
        "ttry_1 = ttrain(tmodel1, weight_decay = 0.001)"
      ]
    },
    {
      "cell_type": "code",
      "execution_count": null,
      "metadata": {
        "colab": {
          "base_uri": "https://localhost:8080/"
        },
        "id": "gaxzmaPMkUkb",
        "outputId": "ae203c74-ec32-4627-d8ff-9701082afa18"
      },
      "outputs": [
        {
          "name": "stdout",
          "output_type": "stream",
          "text": [
            "Using device:  cuda (Tesla T4)\n"
          ]
        }
      ],
      "source": [
        "device = torch.device(\"cuda\" if torch.cuda.is_available() else \"cpu\")\n",
        "print(\"Using device: \", device,f\"({torch.cuda.get_device_name(device)})\" if torch.cuda.is_available() else \"\")"
      ]
    },
    {
      "cell_type": "code",
      "execution_count": null,
      "metadata": {
        "colab": {
          "base_uri": "https://localhost:8080/",
          "height": 1000
        },
        "id": "Xc4yTmRvkqXV",
        "outputId": "da65432a-f1d5-4e0c-fc58-fb018fc72201"
      },
      "outputs": [
        {
          "name": "stdout",
          "output_type": "stream",
          "text": [
            "epoch =  0\n",
            "val acc:  0.1\n",
            "epoch =  1\n",
            "val acc:  0.18666666666666668\n",
            "epoch =  2\n",
            "val acc:  0.16666666666666666\n",
            "epoch =  3\n",
            "patience =  1\n",
            "val acc:  0.16\n",
            "epoch =  4\n",
            "patience =  2\n",
            "val acc:  0.18\n",
            "epoch =  5\n",
            "val acc:  0.20666666666666667\n",
            "epoch =  6\n",
            "val acc:  0.26\n",
            "epoch =  7\n",
            "val acc:  0.22666666666666666\n",
            "epoch =  8\n",
            "patience =  3\n",
            "val acc:  0.24\n",
            "epoch =  9\n",
            "val acc:  0.18666666666666668\n",
            "epoch =  10\n",
            "patience =  4\n",
            "val acc:  0.24\n",
            "epoch =  11\n",
            "val acc:  0.18666666666666668\n",
            "epoch =  12\n",
            "patience =  5\n",
            "val acc:  0.25333333333333335\n",
            "epoch =  13\n",
            "val acc:  0.22666666666666666\n",
            "epoch =  14\n",
            "patience =  6\n",
            "Error: Low Validation Accuracy\n",
            "Total time elapsed: 5388.10 seconds\n",
            "Final Training Loss:  0.05907721817493439\n",
            "Final Training Accuracy:  0.2235294117647059\n",
            "Final Val Accuracy:  0.22666666666666666\n"
          ]
        },
        {
          "data": {
            "image/png": "[encoded data removed]",
            "text/plain": [
              "<Figure size 432x288 with 1 Axes>"
            ]
          },
          "metadata": {},
          "output_type": "display_data"
        },
        {
          "data": {
            "image/png": "[encoded data removed]",
            "text/plain": [
              "<Figure size 432x288 with 1 Axes>"
            ]
          },
          "metadata": {},
          "output_type": "display_data"
        }
      ],
      "source": [
        "tmodel2 = Transformer(num_class = 10, num_blocks = 6, c = 4, dropout = 0.25)\n",
        "ttry_2 = ttrain(tmodel2, weight_decay = 0.001)"
      ]
    },
    {
      "cell_type": "code",
      "source": [
        "tmodel2 = Transformer(num_class = 10, num_blocks = 3, dropout = 0.2)\n",
        "ttry_2 = ttrain(tmodel2, weight_decay = 0.001)"
      ],
      "metadata": {
        "colab": {
          "base_uri": "https://localhost:8080/",
          "height": 1000
        },
        "id": "981xk4b6duqG",
        "outputId": "a3802a59-c50f-4e24-a867-548405fe1672"
      },
      "execution_count": null,
      "outputs": [
        {
          "output_type": "stream",
          "name": "stdout",
          "text": [
            "epoch =  0\n",
            "val acc:  0.18\n",
            "epoch =  1\n",
            "val acc:  0.18666666666666668\n",
            "epoch =  2\n",
            "val acc:  0.17333333333333334\n",
            "epoch =  3\n",
            "patience =  1\n",
            "val acc:  0.26666666666666666\n",
            "epoch =  4\n",
            "val acc:  0.20666666666666667\n",
            "epoch =  5\n",
            "patience =  2\n",
            "val acc:  0.19333333333333333\n",
            "epoch =  6\n",
            "patience =  3\n",
            "val acc:  0.2\n",
            "epoch =  7\n",
            "val acc:  0.23333333333333334\n",
            "epoch =  8\n",
            "val acc:  0.22\n",
            "epoch =  9\n",
            "patience =  4\n",
            "val acc:  0.29333333333333333\n",
            "epoch =  10\n",
            "val acc:  0.18666666666666668\n",
            "epoch =  11\n",
            "patience =  5\n",
            "val acc:  0.2733333333333333\n",
            "epoch =  12\n",
            "val acc:  0.20666666666666667\n",
            "epoch =  13\n",
            "patience =  6\n",
            "val acc:  0.26666666666666666\n",
            "epoch =  14\n",
            "val acc:  0.21333333333333335\n",
            "epoch =  15\n",
            "patience =  7\n",
            "val acc:  0.3333333333333333\n",
            "epoch =  16\n",
            "val acc:  0.2733333333333333\n",
            "epoch =  17\n",
            "patience =  8\n",
            "val acc:  0.24\n",
            "epoch =  18\n",
            "patience =  9\n",
            "val acc:  0.29333333333333333\n",
            "epoch =  19\n",
            "val acc:  0.23333333333333334\n",
            "Total time elapsed: 4250.14 seconds\n",
            "Final Training Loss:  0.057790789753198624\n",
            "Final Training Accuracy:  0.2564705882352941\n",
            "Final Val Accuracy:  0.23333333333333334\n"
          ]
        },
        {
          "output_type": "display_data",
          "data": {
            "text/plain": [
              "<Figure size 432x288 with 1 Axes>"
            ],
            "image/png": "[encoded data removed]"
          },
          "metadata": {
            "needs_background": "light"
          }
        },
        {
          "output_type": "display_data",
          "data": {
            "text/plain": [
              "<Figure size 432x288 with 1 Axes>"
            ],
            "image/png": "[encoded data removed]"
          },
          "metadata": {
            "needs_background": "light"
          }
        }
      ]
    },
    {
      "cell_type": "code",
      "execution_count": null,
      "metadata": {
        "colab": {
          "base_uri": "https://localhost:8080/",
          "height": 1000
        },
        "id": "MdyCHVouVFXe",
        "outputId": "aa1d3bad-f804-4581-ff92-d7e09c1d2d37"
      },
      "outputs": [
        {
          "output_type": "stream",
          "name": "stdout",
          "text": [
            "epoch =  0\n",
            "val acc:  0.14\n",
            "epoch =  1\n",
            "val acc:  0.19333333333333333\n",
            "epoch =  2\n",
            "val acc:  0.2\n",
            "epoch =  3\n",
            "val acc:  0.21333333333333335\n",
            "epoch =  4\n",
            "val acc:  0.17333333333333334\n",
            "epoch =  5\n",
            "patience =  1\n",
            "val acc:  0.24\n",
            "epoch =  6\n",
            "val acc:  0.19333333333333333\n",
            "epoch =  7\n",
            "patience =  2\n",
            "val acc:  0.28\n",
            "epoch =  8\n",
            "val acc:  0.22666666666666666\n",
            "epoch =  9\n",
            "patience =  3\n",
            "val acc:  0.22\n",
            "epoch =  10\n",
            "patience =  4\n",
            "val acc:  0.24666666666666667\n",
            "epoch =  11\n",
            "val acc:  0.22\n",
            "epoch =  12\n",
            "patience =  5\n",
            "val acc:  0.2733333333333333\n",
            "epoch =  13\n",
            "val acc:  0.20666666666666667\n",
            "epoch =  14\n",
            "patience =  6\n",
            "Error: Low Validation Accuracy\n",
            "Total time elapsed: 3550.39 seconds\n",
            "Final Training Loss:  0.06233758479356766\n",
            "Final Training Accuracy:  0.22941176470588234\n",
            "Final Val Accuracy:  0.20666666666666667\n"
          ]
        },
        {
          "output_type": "display_data",
          "data": {
            "text/plain": [
              "<Figure size 432x288 with 1 Axes>"
            ],
            "image/png": "[encoded data removed]"
          },
          "metadata": {
            "needs_background": "light"
          }
        },
        {
          "output_type": "display_data",
          "data": {
            "text/plain": [
              "<Figure size 432x288 with 1 Axes>"
            ],
            "image/png": "[encoded data removed]"
          },
          "metadata": {
            "needs_background": "light"
          }
        }
      ],
      "source": [
        "tmodel3 = Transformer(num_class = 10, num_blocks = 3, c = 4, dropout = 0)\n",
        "ttry_3 = ttrain(tmodel3, lr = 0.0005, weight_decay = 0.001)"
      ]
    },
    {
      "cell_type": "code",
      "execution_count": null,
      "metadata": {
        "id": "b295YBVPWo3D"
      },
      "outputs": [],
      "source": []
    }
  ],
  "metadata": {
    "accelerator": "GPU",
    "colab": {
      "collapsed_sections": [
        "F0AgU90vQLiJ"
      ],
      "provenance": []
    },
    "gpuClass": "standard",
    "kernelspec": {
      "display_name": "Python 3",
      "name": "python3"
    },
    "language_info": {
      "name": "python"
    }
  },
  "nbformat": 4,
  "nbformat_minor": 0
}